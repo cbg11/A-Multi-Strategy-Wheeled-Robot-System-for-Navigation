{
  "nbformat": 4,
  "nbformat_minor": 0,
  "metadata": {
    "colab": {
      "provenance": [],
      "authorship_tag": "ABX9TyOQKTOQvUc7eWunUSsZ5igJ",
      "include_colab_link": true
    },
    "kernelspec": {
      "name": "python3",
      "display_name": "Python 3"
    },
    "language_info": {
      "name": "python"
    },
    "accelerator": "GPU",
    "gpuClass": "standard"
  },
  "cells": [
    {
      "cell_type": "markdown",
      "metadata": {
        "id": "view-in-github",
        "colab_type": "text"
      },
      "source": [
        "<a href=\"https://colab.research.google.com/github/cbg11/A-Multi-Strategy-Wheeled-Robot-System-for-Navigation/blob/main/NMT_Inference_eng_to_ao.ipynb\" target=\"_parent\"><img src=\"https://colab.research.google.com/assets/colab-badge.svg\" alt=\"Open In Colab\"/></a>"
      ]
    },
    {
      "cell_type": "markdown",
      "source": [
        "# Inference for Neural machine translation with attention"
      ],
      "metadata": {
        "id": "PyabcClNQXje"
      }
    },
    {
      "cell_type": "markdown",
      "source": [
        "## Setup"
      ],
      "metadata": {
        "id": "oG5RcYf8QfEd"
      }
    },
    {
      "cell_type": "code",
      "source": [
        "import numpy as np\n",
        "import tensorflow as tf"
      ],
      "metadata": {
        "id": "XKBn_m4hQaRe"
      },
      "execution_count": 1,
      "outputs": []
    },
    {
      "cell_type": "code",
      "source": [
        "# Path to saved file\n",
        "import pathlib\n",
        "from google.colab import drive\n",
        "drive.mount('/content/drive/', force_remount=True)\n",
        "%cd /content/drive/My Drive/MT"
      ],
      "metadata": {
        "colab": {
          "base_uri": "https://localhost:8080/"
        },
        "id": "jHLtNCSDQfv8",
        "outputId": "b37489d2-7c8f-45db-b53c-0cb9b0537317"
      },
      "execution_count": 3,
      "outputs": [
        {
          "output_type": "stream",
          "name": "stdout",
          "text": [
            "Mounted at /content/drive/\n",
            "/content/drive/My Drive/MT\n"
          ]
        }
      ]
    },
    {
      "cell_type": "code",
      "source": [
        "inputs = [\n",
        "    \"It's very cold here.\", # \"As baayyee qorra.\"\n",
        "    \"This is my life.\", # \"Kun jireenya kooti.\"\n",
        "    \"His room is a mess.\" # \"Kutaan isaa jeequmsa.\"\n",
        "]"
      ],
      "metadata": {
        "id": "YtCHrz4YQ-Gu"
      },
      "execution_count": 4,
      "outputs": []
    },
    {
      "cell_type": "code",
      "source": [
        "%%time\n",
        "reloaded = tf.saved_model.load('eng_translator_new')"
      ],
      "metadata": {
        "colab": {
          "base_uri": "https://localhost:8080/"
        },
        "id": "Bv65J9-gQy6w",
        "outputId": "3ba41dcd-2e42-4edd-8a6d-1e9e8432772d"
      },
      "execution_count": 5,
      "outputs": [
        {
          "output_type": "stream",
          "name": "stdout",
          "text": [
            "CPU times: user 41.4 s, sys: 2.76 s, total: 44.2 s\n",
            "Wall time: 59 s\n"
          ]
        }
      ]
    },
    {
      "cell_type": "code",
      "source": [
        "%%time\n",
        "result = reloaded.translate(tf.constant(inputs))\n",
        "\n",
        "print(result[0].numpy().decode())\n",
        "print(result[1].numpy().decode())\n",
        "print(result[2].numpy().decode())\n",
        "print()"
      ],
      "metadata": {
        "colab": {
          "base_uri": "https://localhost:8080/"
        },
        "id": "I6i0h7NJQ6Om",
        "outputId": "eb1d47b7-dd4b-4d1a-d998-3e7279b83899"
      },
      "execution_count": 6,
      "outputs": [
        {
          "output_type": "stream",
          "name": "stdout",
          "text": [
            "asitti baayyee qorra.                                             \n",
            "kun jireenya kooti.                                             \n",
            "kutaan isaa jeequmsa.                                             \n",
            "\n",
            "CPU times: user 20.8 s, sys: 830 ms, total: 21.6 s\n",
            "Wall time: 24.2 s\n"
          ]
        }
      ]
    },
    {
      "cell_type": "code",
      "source": [
        "result = reloaded.translate([\"I am a student.\"])\n",
        "print(result[0].numpy().decode())"
      ],
      "metadata": {
        "colab": {
          "base_uri": "https://localhost:8080/"
        },
        "id": "3GkE-djZQ8m2",
        "outputId": "34374436-687a-427a-9f32-021862dec2d4"
      },
      "execution_count": 9,
      "outputs": [
        {
          "output_type": "stream",
          "name": "stdout",
          "text": [
            "ani barattuu dha.                                             \n"
          ]
        }
      ]
    },
    {
      "cell_type": "code",
      "source": [],
      "metadata": {
        "id": "cQ2ge1_NWl3l"
      },
      "execution_count": null,
      "outputs": []
    }
  ]
}