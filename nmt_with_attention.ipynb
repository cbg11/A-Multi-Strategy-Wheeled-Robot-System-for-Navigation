{
  "cells": [
    {
      "cell_type": "markdown",
      "metadata": {
        "id": "view-in-github",
        "colab_type": "text"
      },
      "source": [
        "<a href=\"https://colab.research.google.com/github/cbg11/A-Multi-Strategy-Wheeled-Robot-System-for-Navigation/blob/main/nmt_with_attention.ipynb\" target=\"_parent\"><img src=\"https://colab.research.google.com/assets/colab-badge.svg\" alt=\"Open In Colab\"/></a>"
      ]
    },
    {
      "cell_type": "markdown",
      "metadata": {
        "id": "J0Qjg6vuaHNt"
      },
      "source": [
        "# Neural machine translation with attention"
      ]
    },
    {
      "cell_type": "markdown",
      "metadata": {
        "id": "yAmSR1FaqKrl"
      },
      "source": [
        "## Setup"
      ]
    },
    {
      "cell_type": "code",
      "execution_count": 1,
      "metadata": {
        "id": "DGFTkuRvzWqc",
        "colab": {
          "base_uri": "https://localhost:8080/"
        },
        "outputId": "d646e95c-1ffe-4ad4-94a0-730b13ecfe4b"
      },
      "outputs": [
        {
          "output_type": "stream",
          "name": "stdout",
          "text": [
            "Looking in indexes: https://pypi.org/simple, https://us-python.pkg.dev/colab-wheels/public/simple/\n",
            "Requirement already satisfied: tensorflow-text>=2.10 in /usr/local/lib/python3.8/dist-packages (2.11.0)\n",
            "Requirement already satisfied: tensorflow-hub>=0.8.0 in /usr/local/lib/python3.8/dist-packages (from tensorflow-text>=2.10) (0.12.0)\n",
            "Requirement already satisfied: tensorflow<2.12,>=2.11.0 in /usr/local/lib/python3.8/dist-packages (from tensorflow-text>=2.10) (2.11.0)\n",
            "Requirement already satisfied: h5py>=2.9.0 in /usr/local/lib/python3.8/dist-packages (from tensorflow<2.12,>=2.11.0->tensorflow-text>=2.10) (3.1.0)\n",
            "Requirement already satisfied: typing-extensions>=3.6.6 in /usr/local/lib/python3.8/dist-packages (from tensorflow<2.12,>=2.11.0->tensorflow-text>=2.10) (4.5.0)\n",
            "Requirement already satisfied: grpcio<2.0,>=1.24.3 in /usr/local/lib/python3.8/dist-packages (from tensorflow<2.12,>=2.11.0->tensorflow-text>=2.10) (1.51.1)\n",
            "Requirement already satisfied: protobuf<3.20,>=3.9.2 in /usr/local/lib/python3.8/dist-packages (from tensorflow<2.12,>=2.11.0->tensorflow-text>=2.10) (3.19.6)\n",
            "Requirement already satisfied: astunparse>=1.6.0 in /usr/local/lib/python3.8/dist-packages (from tensorflow<2.12,>=2.11.0->tensorflow-text>=2.10) (1.6.3)\n",
            "Requirement already satisfied: gast<=0.4.0,>=0.2.1 in /usr/local/lib/python3.8/dist-packages (from tensorflow<2.12,>=2.11.0->tensorflow-text>=2.10) (0.4.0)\n",
            "Requirement already satisfied: tensorboard<2.12,>=2.11 in /usr/local/lib/python3.8/dist-packages (from tensorflow<2.12,>=2.11.0->tensorflow-text>=2.10) (2.11.2)\n",
            "Requirement already satisfied: opt-einsum>=2.3.2 in /usr/local/lib/python3.8/dist-packages (from tensorflow<2.12,>=2.11.0->tensorflow-text>=2.10) (3.3.0)\n",
            "Requirement already satisfied: packaging in /usr/local/lib/python3.8/dist-packages (from tensorflow<2.12,>=2.11.0->tensorflow-text>=2.10) (23.0)\n",
            "Requirement already satisfied: google-pasta>=0.1.1 in /usr/local/lib/python3.8/dist-packages (from tensorflow<2.12,>=2.11.0->tensorflow-text>=2.10) (0.2.0)\n",
            "Requirement already satisfied: libclang>=13.0.0 in /usr/local/lib/python3.8/dist-packages (from tensorflow<2.12,>=2.11.0->tensorflow-text>=2.10) (15.0.6.1)\n",
            "Requirement already satisfied: absl-py>=1.0.0 in /usr/local/lib/python3.8/dist-packages (from tensorflow<2.12,>=2.11.0->tensorflow-text>=2.10) (1.4.0)\n",
            "Requirement already satisfied: wrapt>=1.11.0 in /usr/local/lib/python3.8/dist-packages (from tensorflow<2.12,>=2.11.0->tensorflow-text>=2.10) (1.14.1)\n",
            "Requirement already satisfied: flatbuffers>=2.0 in /usr/local/lib/python3.8/dist-packages (from tensorflow<2.12,>=2.11.0->tensorflow-text>=2.10) (23.1.21)\n",
            "Requirement already satisfied: tensorflow-estimator<2.12,>=2.11.0 in /usr/local/lib/python3.8/dist-packages (from tensorflow<2.12,>=2.11.0->tensorflow-text>=2.10) (2.11.0)\n",
            "Requirement already satisfied: six>=1.12.0 in /usr/local/lib/python3.8/dist-packages (from tensorflow<2.12,>=2.11.0->tensorflow-text>=2.10) (1.15.0)\n",
            "Requirement already satisfied: setuptools in /usr/local/lib/python3.8/dist-packages (from tensorflow<2.12,>=2.11.0->tensorflow-text>=2.10) (57.4.0)\n",
            "Requirement already satisfied: numpy>=1.20 in /usr/local/lib/python3.8/dist-packages (from tensorflow<2.12,>=2.11.0->tensorflow-text>=2.10) (1.21.6)\n",
            "Requirement already satisfied: termcolor>=1.1.0 in /usr/local/lib/python3.8/dist-packages (from tensorflow<2.12,>=2.11.0->tensorflow-text>=2.10) (2.2.0)\n",
            "Requirement already satisfied: tensorflow-io-gcs-filesystem>=0.23.1 in /usr/local/lib/python3.8/dist-packages (from tensorflow<2.12,>=2.11.0->tensorflow-text>=2.10) (0.30.0)\n",
            "Requirement already satisfied: keras<2.12,>=2.11.0 in /usr/local/lib/python3.8/dist-packages (from tensorflow<2.12,>=2.11.0->tensorflow-text>=2.10) (2.11.0)\n",
            "Requirement already satisfied: wheel<1.0,>=0.23.0 in /usr/local/lib/python3.8/dist-packages (from astunparse>=1.6.0->tensorflow<2.12,>=2.11.0->tensorflow-text>=2.10) (0.38.4)\n",
            "Requirement already satisfied: google-auth-oauthlib<0.5,>=0.4.1 in /usr/local/lib/python3.8/dist-packages (from tensorboard<2.12,>=2.11->tensorflow<2.12,>=2.11.0->tensorflow-text>=2.10) (0.4.6)\n",
            "Requirement already satisfied: tensorboard-plugin-wit>=1.6.0 in /usr/local/lib/python3.8/dist-packages (from tensorboard<2.12,>=2.11->tensorflow<2.12,>=2.11.0->tensorflow-text>=2.10) (1.8.1)\n",
            "Requirement already satisfied: tensorboard-data-server<0.7.0,>=0.6.0 in /usr/local/lib/python3.8/dist-packages (from tensorboard<2.12,>=2.11->tensorflow<2.12,>=2.11.0->tensorflow-text>=2.10) (0.6.1)\n",
            "Requirement already satisfied: requests<3,>=2.21.0 in /usr/local/lib/python3.8/dist-packages (from tensorboard<2.12,>=2.11->tensorflow<2.12,>=2.11.0->tensorflow-text>=2.10) (2.25.1)\n",
            "Requirement already satisfied: markdown>=2.6.8 in /usr/local/lib/python3.8/dist-packages (from tensorboard<2.12,>=2.11->tensorflow<2.12,>=2.11.0->tensorflow-text>=2.10) (3.4.1)\n",
            "Requirement already satisfied: werkzeug>=1.0.1 in /usr/local/lib/python3.8/dist-packages (from tensorboard<2.12,>=2.11->tensorflow<2.12,>=2.11.0->tensorflow-text>=2.10) (1.0.1)\n",
            "Requirement already satisfied: google-auth<3,>=1.6.3 in /usr/local/lib/python3.8/dist-packages (from tensorboard<2.12,>=2.11->tensorflow<2.12,>=2.11.0->tensorflow-text>=2.10) (2.16.0)\n",
            "Requirement already satisfied: cachetools<6.0,>=2.0.0 in /usr/local/lib/python3.8/dist-packages (from google-auth<3,>=1.6.3->tensorboard<2.12,>=2.11->tensorflow<2.12,>=2.11.0->tensorflow-text>=2.10) (5.3.0)\n",
            "Requirement already satisfied: pyasn1-modules>=0.2.1 in /usr/local/lib/python3.8/dist-packages (from google-auth<3,>=1.6.3->tensorboard<2.12,>=2.11->tensorflow<2.12,>=2.11.0->tensorflow-text>=2.10) (0.2.8)\n",
            "Requirement already satisfied: rsa<5,>=3.1.4 in /usr/local/lib/python3.8/dist-packages (from google-auth<3,>=1.6.3->tensorboard<2.12,>=2.11->tensorflow<2.12,>=2.11.0->tensorflow-text>=2.10) (4.9)\n",
            "Requirement already satisfied: requests-oauthlib>=0.7.0 in /usr/local/lib/python3.8/dist-packages (from google-auth-oauthlib<0.5,>=0.4.1->tensorboard<2.12,>=2.11->tensorflow<2.12,>=2.11.0->tensorflow-text>=2.10) (1.3.1)\n",
            "Requirement already satisfied: importlib-metadata>=4.4 in /usr/local/lib/python3.8/dist-packages (from markdown>=2.6.8->tensorboard<2.12,>=2.11->tensorflow<2.12,>=2.11.0->tensorflow-text>=2.10) (6.0.0)\n",
            "Requirement already satisfied: chardet<5,>=3.0.2 in /usr/local/lib/python3.8/dist-packages (from requests<3,>=2.21.0->tensorboard<2.12,>=2.11->tensorflow<2.12,>=2.11.0->tensorflow-text>=2.10) (4.0.0)\n",
            "Requirement already satisfied: certifi>=2017.4.17 in /usr/local/lib/python3.8/dist-packages (from requests<3,>=2.21.0->tensorboard<2.12,>=2.11->tensorflow<2.12,>=2.11.0->tensorflow-text>=2.10) (2022.12.7)\n",
            "Requirement already satisfied: urllib3<1.27,>=1.21.1 in /usr/local/lib/python3.8/dist-packages (from requests<3,>=2.21.0->tensorboard<2.12,>=2.11->tensorflow<2.12,>=2.11.0->tensorflow-text>=2.10) (1.24.3)\n",
            "Requirement already satisfied: idna<3,>=2.5 in /usr/local/lib/python3.8/dist-packages (from requests<3,>=2.21.0->tensorboard<2.12,>=2.11->tensorflow<2.12,>=2.11.0->tensorflow-text>=2.10) (2.10)\n",
            "Requirement already satisfied: zipp>=0.5 in /usr/local/lib/python3.8/dist-packages (from importlib-metadata>=4.4->markdown>=2.6.8->tensorboard<2.12,>=2.11->tensorflow<2.12,>=2.11.0->tensorflow-text>=2.10) (3.13.0)\n",
            "Requirement already satisfied: pyasn1<0.5.0,>=0.4.6 in /usr/local/lib/python3.8/dist-packages (from pyasn1-modules>=0.2.1->google-auth<3,>=1.6.3->tensorboard<2.12,>=2.11->tensorflow<2.12,>=2.11.0->tensorflow-text>=2.10) (0.4.8)\n",
            "Requirement already satisfied: oauthlib>=3.0.0 in /usr/local/lib/python3.8/dist-packages (from requests-oauthlib>=0.7.0->google-auth-oauthlib<0.5,>=0.4.1->tensorboard<2.12,>=2.11->tensorflow<2.12,>=2.11.0->tensorflow-text>=2.10) (3.2.2)\n",
            "Looking in indexes: https://pypi.org/simple, https://us-python.pkg.dev/colab-wheels/public/simple/\n",
            "Requirement already satisfied: einops in /usr/local/lib/python3.8/dist-packages (0.6.0)\n"
          ]
        }
      ],
      "source": [
        "!pip install \"tensorflow-text>=2.10\"\n",
        "!pip install einops"
      ]
    },
    {
      "cell_type": "code",
      "execution_count": 2,
      "metadata": {
        "id": "tnxXKDjq3jEL"
      },
      "outputs": [],
      "source": [
        "import numpy as np\n",
        "\n",
        "import typing\n",
        "from typing import Any, Tuple\n",
        "\n",
        "import einops\n",
        "import matplotlib.pyplot as plt\n",
        "import matplotlib.ticker as ticker\n",
        "\n",
        "import tensorflow as tf\n",
        "import tensorflow_text as tf_text"
      ]
    },
    {
      "cell_type": "markdown",
      "metadata": {
        "id": "l_yq8kvIqoqQ"
      },
      "source": [
        "This class is used to check shapes throughout the project.\n"
      ]
    },
    {
      "cell_type": "code",
      "execution_count": 3,
      "metadata": {
        "id": "KqFqKi4fqN9X"
      },
      "outputs": [],
      "source": [
        "class ShapeChecker():\n",
        "  def __init__(self):\n",
        "    # Keep a cache of every axis-name seen\n",
        "    self.shapes = {}\n",
        "\n",
        "  def __call__(self, tensor, names, broadcast=False):\n",
        "    if not tf.executing_eagerly():\n",
        "      return\n",
        "\n",
        "    parsed = einops.parse_shape(tensor, names)\n",
        "\n",
        "    for name, new_dim in parsed.items():\n",
        "      old_dim = self.shapes.get(name, None)\n",
        "      \n",
        "      if (broadcast and new_dim == 1):\n",
        "        continue\n",
        "\n",
        "      if old_dim is None:\n",
        "        # If the axis name is new, add its length to the cache.\n",
        "        self.shapes[name] = new_dim\n",
        "        continue\n",
        "\n",
        "      if new_dim != old_dim:\n",
        "        raise ValueError(f\"Shape mismatch for dimension: '{name}'\\n\"\n",
        "                         f\"    found: {new_dim}\\n\"\n",
        "                         f\"    expected: {old_dim}\\n\")"
      ]
    },
    {
      "cell_type": "markdown",
      "metadata": {
        "id": "gjUROhJfH3ML"
      },
      "source": [
        "## The data"
      ]
    },
    {
      "cell_type": "markdown",
      "metadata": {
        "id": "puE_K74DIE9W"
      },
      "source": [
        "The Project uses a language dataset similar with provided by [Anki](http://www.manythings.org/anki/). This dataset contains language translation pairs separated by tab in the format:\n",
        "\n",
        "```\n",
        "I know a few things.\tWaan muraasa beeka.\n",
        "```"
      ]
    },
    {
      "cell_type": "markdown",
      "metadata": {
        "id": "wfodePkj3jEa"
      },
      "source": [
        "### Download and prepare the dataset"
      ]
    },
    {
      "cell_type": "code",
      "execution_count": 4,
      "metadata": {
        "id": "kRVATYOgJs1b",
        "colab": {
          "base_uri": "https://localhost:8080/"
        },
        "outputId": "32e3c7e0-6ec0-4d3d-bd67-7cb1180a7e86"
      },
      "outputs": [
        {
          "output_type": "stream",
          "name": "stdout",
          "text": [
            "Mounted at /content/drive/\n",
            "/content/drive/My Drive/TTS\n"
          ]
        }
      ],
      "source": [
        "# Download the file\n",
        "import pathlib\n",
        "from google.colab import drive\n",
        "drive.mount('/content/drive/', force_remount=True)\n",
        "%cd /content/drive/My Drive/TTS\n",
        "path_to_file = \"eng_or_tr_final.txt\""
      ]
    },
    {
      "cell_type": "code",
      "source": [
        "def data_loader(f_name):\n",
        "    target = []\n",
        "    context = []\n",
        "    with open(f_name, 'r', encoding='utf-8') as f:\n",
        "        for line in f:\n",
        "            trg, cnt = line.strip().split('\\t')\n",
        "            target.append(trg)\n",
        "            context.append(cnt)\n",
        "    return np.array(target), np.array(context)"
      ],
      "metadata": {
        "id": "Ump1tLruRzc_"
      },
      "execution_count": 5,
      "outputs": []
    },
    {
      "cell_type": "code",
      "execution_count": 6,
      "metadata": {
        "id": "cTbSbBz55QtF",
        "colab": {
          "base_uri": "https://localhost:8080/"
        },
        "outputId": "024722db-24a9-4a35-cc12-928bb2f94660"
      },
      "outputs": [
        {
          "output_type": "stream",
          "name": "stdout",
          "text": [
            "Length of the dataset:  120169\n",
            "Sample sentece on line 800: Sirbuu nan danda'a.\n",
            "Sample transcription on line 800: I can sing.\n"
          ]
        }
      ],
      "source": [
        "target_raw, context_raw = data_loader(path_to_file)\n",
        "print(\"Length of the dataset: \", len(context_raw))\n",
        "print(\"Sample sentece on line 800:\", context_raw[800])\n",
        "print(\"Sample transcription on line 800:\", target_raw[800])\n"
      ]
    },
    {
      "cell_type": "markdown",
      "metadata": {
        "id": "rgCLkfv5uO3d"
      },
      "source": [
        "### Create a tf.data dataset"
      ]
    },
    {
      "cell_type": "code",
      "execution_count": 7,
      "metadata": {
        "id": "3rZFgz69nMPa"
      },
      "outputs": [],
      "source": [
        "BUFFER_SIZE = len(context_raw)\n",
        "BATCH_SIZE = 64\n",
        "\n",
        "is_train = np.random.uniform(size=(len(target_raw),)) < 0.8\n",
        "\n",
        "train_raw = (\n",
        "    tf.data.Dataset\n",
        "    .from_tensor_slices((context_raw[is_train], target_raw[is_train]))\n",
        "    .shuffle(BUFFER_SIZE)\n",
        "    .batch(BATCH_SIZE))\n",
        "val_raw = (\n",
        "    tf.data.Dataset\n",
        "    .from_tensor_slices((context_raw[~is_train], target_raw[~is_train]))\n",
        "    .shuffle(BUFFER_SIZE)\n",
        "    .batch(BATCH_SIZE))"
      ]
    },
    {
      "cell_type": "code",
      "execution_count": 8,
      "metadata": {
        "id": "qc6-NK1GtWQt",
        "colab": {
          "base_uri": "https://localhost:8080/"
        },
        "outputId": "6f769aab-c6fc-43dd-bb3c-b3f3cc86f55d"
      },
      "outputs": [
        {
          "output_type": "stream",
          "name": "stdout",
          "text": [
            "tf.Tensor(\n",
            "[b'Nama tokkotti akka himtu hin barbaadu.' b\"Qophaa'eera.\"\n",
            " b'Shamarran xixiqqoo doolii wajjin taphachuu jaallatu.'\n",
            " b'Toom dubartii bareedduu inni arge hunda akka taate akka itti fakkaate Meeriitti hime.'\n",
            " b'Toom yeroo mucaa xinnoo turerraa kaasee poolisii ta\\xca\\xbcuu akka barbaadu beeka ture.'], shape=(5,), dtype=string)\n",
            "\n",
            "tf.Tensor(\n",
            "[b\"I don't want you to tell anybody.\" b\"I'm prepared.\"\n",
            " b'Little girls like playing with dolls.'\n",
            " b\"Tom told Mary he thought she was the most beautiful woman he'd ever met.\"\n",
            " b'From the time he was a small boy, Tom knew that he wanted to be a policeman.'], shape=(5,), dtype=string)\n"
          ]
        }
      ],
      "source": [
        "for example_context_strings, example_target_strings in train_raw.take(1):\n",
        "  print(example_context_strings[:5])\n",
        "  print()\n",
        "  print(example_target_strings[:5])\n",
        "  break"
      ]
    },
    {
      "cell_type": "markdown",
      "metadata": {
        "id": "zCoxLcuN3bwv"
      },
      "source": [
        "### Text preprocessing"
      ]
    },
    {
      "cell_type": "markdown",
      "metadata": {
        "id": "EOQ5n55X4uDB"
      },
      "source": [
        "#### Standardization"
      ]
    },
    {
      "cell_type": "code",
      "execution_count": 9,
      "metadata": {
        "id": "chTF5N885F0P"
      },
      "outputs": [],
      "source": [
        "def tf_lower_and_split_punct(text):\n",
        "  # Split accented characters.\n",
        "  #text = tf_text.normalize_utf8(text, 'NFKD')\n",
        "  text = tf.strings.lower(text)\n",
        "  # Keep space, a to z, and selected punctuation.\n",
        "  text = tf.strings.regex_replace(text, \"[^ a-z.?!,']\", '')\n",
        "  # Add spaces around punctuation.\n",
        "  text = tf.strings.regex_replace(text, '[.?!,]', r' \\0 ')\n",
        "  # Strip whitespace.\n",
        "  text = tf.strings.strip(text)\n",
        "\n",
        "  text = tf.strings.join(['<s>', text, '</s>'], separator=' ')\n",
        "  return text"
      ]
    },
    {
      "cell_type": "code",
      "source": [
        "example_text = example_context_strings[0]"
      ],
      "metadata": {
        "id": "ij83pTCnq_L6"
      },
      "execution_count": 10,
      "outputs": []
    },
    {
      "cell_type": "code",
      "execution_count": 11,
      "metadata": {
        "id": "UREvDg3sEKYa",
        "colab": {
          "base_uri": "https://localhost:8080/"
        },
        "outputId": "ad2e19c3-7ff3-46d8-d013-7e47bc8cc5e6"
      },
      "outputs": [
        {
          "output_type": "stream",
          "name": "stdout",
          "text": [
            "Nama tokkotti akka himtu hin barbaadu.\n",
            "<s> nama tokkotti akka himtu hin barbaadu . </s>\n"
          ]
        }
      ],
      "source": [
        "print(example_text.numpy().decode())\n",
        "print(tf_lower_and_split_punct(example_text).numpy().decode())"
      ]
    },
    {
      "cell_type": "markdown",
      "metadata": {
        "id": "4q-sKsSI7xRZ"
      },
      "source": [
        "#### Text Vectorization"
      ]
    },
    {
      "cell_type": "code",
      "execution_count": 12,
      "metadata": {
        "id": "eAY9k49G3jE_"
      },
      "outputs": [],
      "source": [
        "max_vocab_size = 30000\n",
        "\n",
        "context_text_processor = tf.keras.layers.TextVectorization(\n",
        "    standardize=tf_lower_and_split_punct,\n",
        "    max_tokens=max_vocab_size,\n",
        "    ragged=True)"
      ]
    },
    {
      "cell_type": "markdown",
      "metadata": {
        "id": "7kbC6ODP8IK_"
      },
      "source": [
        "The `TextVectorization` layer and many other [Keras preprocessing layers](https://www.tensorflow.org/guide/keras/preprocessing_layers) have an `adapt` method. This method reads one epoch of the training data, and works a lot like `Model.fit`. This `adapt` method initializes the layer based on the data. Here it determines the vocabulary:"
      ]
    },
    {
      "cell_type": "code",
      "execution_count": 13,
      "metadata": {
        "id": "bmsI1Yql8FYe",
        "colab": {
          "base_uri": "https://localhost:8080/"
        },
        "outputId": "9fa05385-907d-456e-d9ee-7310c284f177"
      },
      "outputs": [
        {
          "output_type": "stream",
          "name": "stderr",
          "text": [
            "WARNING:tensorflow:From /usr/local/lib/python3.8/dist-packages/tensorflow/python/autograph/pyct/static_analysis/liveness.py:83: Analyzer.lamba_check (from tensorflow.python.autograph.pyct.static_analysis.liveness) is deprecated and will be removed after 2023-09-23.\n",
            "Instructions for updating:\n",
            "Lambda fuctions will be no more assumed to be used in the statement where they are used, or at least in the same block. https://github.com/tensorflow/tensorflow/issues/56089\n"
          ]
        },
        {
          "output_type": "execute_result",
          "data": {
            "text/plain": [
              "['', '[UNK]', '<s>', '</s>', '.', 'hin', 'toom', '?', 'akka', 'ture']"
            ]
          },
          "metadata": {},
          "execution_count": 13
        }
      ],
      "source": [
        "context_text_processor.adapt(train_raw.map(lambda context, target: context))\n",
        "\n",
        "# Here are the first 10 words from the vocabulary:\n",
        "context_text_processor.get_vocabulary()[:10]"
      ]
    },
    {
      "cell_type": "code",
      "source": [
        "print(\"Length of vocabulary of Afaan Oromo:\", len(context_text_processor.get_vocabulary()))"
      ],
      "metadata": {
        "colab": {
          "base_uri": "https://localhost:8080/"
        },
        "id": "yiOzVQULqm09",
        "outputId": "c3dd9d9f-ee2e-4822-8a7a-087ac8b3827f"
      },
      "execution_count": 14,
      "outputs": [
        {
          "output_type": "stream",
          "name": "stdout",
          "text": [
            "Length of vocabulary of Afaan Oromo: 27510\n"
          ]
        }
      ]
    },
    {
      "cell_type": "markdown",
      "metadata": {
        "id": "9kGjIFjX8_Wp"
      },
      "source": [
        "That's the Afaan Oromoo `TextVectorization` layer, now build and `.adapt()` the English one:"
      ]
    },
    {
      "cell_type": "code",
      "execution_count": 15,
      "metadata": {
        "id": "jlC4xuZnKLBS",
        "colab": {
          "base_uri": "https://localhost:8080/"
        },
        "outputId": "378c7b1d-64fa-4fba-8414-9437ae11e4b1"
      },
      "outputs": [
        {
          "output_type": "execute_result",
          "data": {
            "text/plain": [
              "['', '[UNK]', '<s>', '</s>', '.', 'the', 'to', 'i', 'tom', 'you']"
            ]
          },
          "metadata": {},
          "execution_count": 15
        }
      ],
      "source": [
        "target_text_processor = tf.keras.layers.TextVectorization(\n",
        "    standardize=tf_lower_and_split_punct,\n",
        "    max_tokens=max_vocab_size,\n",
        "    ragged=True)\n",
        "\n",
        "target_text_processor.adapt(train_raw.map(lambda context, target: target))\n",
        "target_text_processor.get_vocabulary()[:10]"
      ]
    },
    {
      "cell_type": "code",
      "source": [
        "print(\"Length of vocabulary of English:\", len(target_text_processor.get_vocabulary()))"
      ],
      "metadata": {
        "colab": {
          "base_uri": "https://localhost:8080/"
        },
        "id": "HXAYigZjmYuK",
        "outputId": "c94b0e9d-72d8-457c-d421-f0ec20169596"
      },
      "execution_count": 16,
      "outputs": [
        {
          "output_type": "stream",
          "name": "stdout",
          "text": [
            "Length of vocabulary of English: 17090\n"
          ]
        }
      ]
    },
    {
      "cell_type": "markdown",
      "metadata": {
        "id": "BWQqlP_s9eIv"
      },
      "source": [
        "Now these layers can convert a batch of strings into a batch of token IDs:"
      ]
    },
    {
      "cell_type": "code",
      "execution_count": 17,
      "metadata": {
        "id": "9KZxj8IrNZ9S",
        "colab": {
          "base_uri": "https://localhost:8080/"
        },
        "outputId": "16116e16-67a5-4d7c-ffe2-70609da95328"
      },
      "outputs": [
        {
          "output_type": "execute_result",
          "data": {
            "text/plain": [
              "<tf.RaggedTensor [[2, 30, 287, 8, 2054, 5, 87, 4, 3], [2, 1928, 4, 3],\n",
              " [2, 1083, 1754, 1740, 95, 349, 257, 4, 3]]>"
            ]
          },
          "metadata": {},
          "execution_count": 17
        }
      ],
      "source": [
        "example_tokens = context_text_processor(example_context_strings)\n",
        "example_tokens[:3, :]"
      ]
    },
    {
      "cell_type": "markdown",
      "metadata": {
        "id": "AA9rUn9G9n78"
      },
      "source": [
        "The `get_vocabulary` method can be used to convert token IDs back to text:"
      ]
    },
    {
      "cell_type": "code",
      "execution_count": 18,
      "metadata": {
        "id": "98g9rcxGQY0I",
        "colab": {
          "base_uri": "https://localhost:8080/"
        },
        "outputId": "33475685-aed7-40c6-90bb-0cf724a4a878"
      },
      "outputs": [
        {
          "output_type": "execute_result",
          "data": {
            "text/plain": [
              "<tf.Tensor: shape=(9,), dtype=int64, numpy=array([   2,   30,  287,    8, 2054,    5,   87,    4,    3])>"
            ]
          },
          "metadata": {},
          "execution_count": 18
        }
      ],
      "source": [
        "example_tokens[0]"
      ]
    },
    {
      "cell_type": "code",
      "source": [
        "context_vocab = np.array(context_text_processor.get_vocabulary())\n",
        "tokens = context_vocab[example_tokens[0].numpy()]\n",
        "' '.join(tokens)"
      ],
      "metadata": {
        "colab": {
          "base_uri": "https://localhost:8080/",
          "height": 35
        },
        "id": "wKtkvmHbDJsO",
        "outputId": "a1137aee-afe6-4598-946e-f8a7ed637afd"
      },
      "execution_count": 19,
      "outputs": [
        {
          "output_type": "execute_result",
          "data": {
            "text/plain": [
              "'<s> nama tokkotti akka himtu hin barbaadu . </s>'"
            ],
            "application/vnd.google.colaboratory.intrinsic+json": {
              "type": "string"
            }
          },
          "metadata": {},
          "execution_count": 19
        }
      ]
    },
    {
      "cell_type": "markdown",
      "metadata": {
        "id": "Ot0aCL9t-Ghi"
      },
      "source": [
        "The returned token IDs are zero-padded. This can easily be turned into a mask:"
      ]
    },
    {
      "cell_type": "code",
      "execution_count": 20,
      "metadata": {
        "id": "_jx4Or_eFRSz",
        "colab": {
          "base_uri": "https://localhost:8080/",
          "height": 298
        },
        "outputId": "f50ee5d8-ca7c-4707-88ab-a67a85468f86"
      },
      "outputs": [
        {
          "output_type": "execute_result",
          "data": {
            "text/plain": [
              "Text(0.5, 1.0, 'Mask')"
            ]
          },
          "metadata": {},
          "execution_count": 20
        },
        {
          "output_type": "display_data",
          "data": {
            "text/plain": [
              "<Figure size 432x288 with 2 Axes>"
            ],
            "image/png": "[encoded data removed]"
          },
          "metadata": {
            "needs_background": "light"
          }
        }
      ],
      "source": [
        "plt.subplot(1, 2, 1)\n",
        "plt.pcolormesh(example_tokens.to_tensor())\n",
        "plt.title('Token IDs')\n",
        "\n",
        "plt.subplot(1, 2, 2)\n",
        "plt.pcolormesh(example_tokens.to_tensor() != 0)\n",
        "plt.title('Mask')"
      ]
    },
    {
      "cell_type": "markdown",
      "metadata": {
        "id": "3O0B4XdFlRgc"
      },
      "source": [
        "### Process the dataset\n",
        "\n"
      ]
    },
    {
      "cell_type": "markdown",
      "metadata": {
        "id": "rVCuyuSp_whd"
      },
      "source": [
        "The `process_text` function below converts the `Datasets` of strings, into  0-padded tensors of token IDs. It also converts from a `(context, target)` pair to an `((context, target_in), target_out)` pair for training with `keras.Model.fit`. Keras expects `(inputs, labels)` pairs, the inputs are the `(context, target_in)` and the labels are `target_out`. The difference between `target_in` and `target_out` is that they are shifted by one step relative to eachother, so that at each location the label is the next token."
      ]
    },
    {
      "cell_type": "code",
      "execution_count": 21,
      "metadata": {
        "id": "wk5tbZWQl5u1"
      },
      "outputs": [],
      "source": [
        "def process_text(context, target):\n",
        "  context = context_text_processor(context).to_tensor()\n",
        "  target = target_text_processor(target)\n",
        "  targ_in = target[:,:-1].to_tensor()\n",
        "  targ_out = target[:,1:].to_tensor()\n",
        "  return (context, targ_in), targ_out\n",
        "\n",
        "\n",
        "train_ds = train_raw.map(process_text, tf.data.AUTOTUNE)\n",
        "val_ds = val_raw.map(process_text, tf.data.AUTOTUNE)"
      ]
    },
    {
      "cell_type": "markdown",
      "metadata": {
        "id": "4iGi7X2m_tbM"
      },
      "source": [
        "Here is the first sequence of each, from the first batch:"
      ]
    },
    {
      "cell_type": "code",
      "execution_count": 22,
      "metadata": {
        "id": "woQBWAjLsJkr",
        "colab": {
          "base_uri": "https://localhost:8080/"
        },
        "outputId": "d509ef6c-1be1-4c12-d037-dc0820b35ded"
      },
      "outputs": [
        {
          "output_type": "stream",
          "name": "stdout",
          "text": [
            "[   2  129 1189 1027   99    7    3    0    0    0]\n",
            "\n",
            "[   2   54   44    7  247   10 1003   11    0    0]\n",
            "[  54   44    7  247   10 1003   11    3    0    0]\n"
          ]
        }
      ],
      "source": [
        "for (ex_context_tok, ex_tar_in), ex_tar_out in train_ds.take(1):\n",
        "  print(ex_context_tok[0, :10].numpy()) \n",
        "  print()\n",
        "  print(ex_tar_in[0, :10].numpy()) \n",
        "  print(ex_tar_out[0, :10].numpy()) "
      ]
    },
    {
      "cell_type": "markdown",
      "metadata": {
        "id": "TNfHIF71ulLu"
      },
      "source": [
        "## The encoder/decoder\n"
      ]
    },
    {
      "cell_type": "markdown",
      "metadata": {
        "id": "gzQWx2saImMV"
      },
      "source": [
        "Before getting into it define constants for the model:"
      ]
    },
    {
      "cell_type": "code",
      "execution_count": 23,
      "metadata": {
        "id": "_a9uNz3-IrF-"
      },
      "outputs": [],
      "source": [
        "UNITS = 256"
      ]
    },
    {
      "cell_type": "markdown",
      "metadata": {
        "id": "blNgVbLSzpsr"
      },
      "source": [
        "### The encoder"
      ]
    },
    {
      "cell_type": "code",
      "execution_count": 24,
      "metadata": {
        "id": "nZ2rI24i3jFg"
      },
      "outputs": [],
      "source": [
        "class Encoder(tf.keras.layers.Layer):\n",
        "  def __init__(self, text_processor, units):\n",
        "    super(Encoder, self).__init__()\n",
        "    self.text_processor = text_processor\n",
        "    self.vocab_size = text_processor.vocabulary_size()\n",
        "    self.units = units\n",
        "    \n",
        "    # The embedding layer converts tokens to vectors\n",
        "    self.embedding = tf.keras.layers.Embedding(self.vocab_size, units,\n",
        "                                               mask_zero=True)\n",
        "\n",
        "    # The RNN layer processes those vectors sequentially.\n",
        "    self.rnn = tf.keras.layers.Bidirectional(\n",
        "        merge_mode='sum',\n",
        "        layer=tf.keras.layers.GRU(units,\n",
        "                            # Return the sequence and state\n",
        "                            return_sequences=True,\n",
        "                            recurrent_initializer='glorot_uniform'))\n",
        "\n",
        "  def call(self, x):\n",
        "    shape_checker = ShapeChecker()\n",
        "    shape_checker(x, 'batch s')\n",
        "\n",
        "    # 2. The embedding layer looks up the embedding vector for each token.\n",
        "    x = self.embedding(x)\n",
        "    shape_checker(x, 'batch s units')\n",
        "\n",
        "    # 3. The GRU processes the sequence of embeddings.\n",
        "    x = self.rnn(x)\n",
        "    shape_checker(x, 'batch s units')\n",
        "\n",
        "    # 4. Returns the new sequence of embeddings.\n",
        "    return x\n",
        "\n",
        "  def convert_input(self, texts):\n",
        "    texts = tf.convert_to_tensor(texts)\n",
        "    if len(texts.shape) == 0:\n",
        "      texts = tf.convert_to_tensor(texts)[tf.newaxis]\n",
        "    context = self.text_processor(texts).to_tensor()\n",
        "    context = self(context)\n",
        "    return context"
      ]
    },
    {
      "cell_type": "markdown",
      "metadata": {
        "id": "D3SKkaQeGn-Q"
      },
      "source": [
        "Try it out:"
      ]
    },
    {
      "cell_type": "code",
      "execution_count": 25,
      "metadata": {
        "id": "60gSVh05Jl6l",
        "colab": {
          "base_uri": "https://localhost:8080/"
        },
        "outputId": "ea88652b-291a-4976-aa6a-6e972d25d0dc"
      },
      "outputs": [
        {
          "output_type": "stream",
          "name": "stdout",
          "text": [
            "Context tokens, shape (batch, s): (64, 18)\n",
            "Encoder output, shape (batch, s, units): (64, 18, 256)\n"
          ]
        }
      ],
      "source": [
        "# Encode the input sequence.\n",
        "encoder = Encoder(context_text_processor, UNITS)\n",
        "ex_context = encoder(ex_context_tok)\n",
        "\n",
        "print(f'Context tokens, shape (batch, s): {ex_context_tok.shape}')\n",
        "print(f'Encoder output, shape (batch, s, units): {ex_context.shape}')"
      ]
    },
    {
      "cell_type": "markdown",
      "metadata": {
        "id": "45xM_Gl1MgXY"
      },
      "source": [
        "### The attention layer"
      ]
    },
    {
      "cell_type": "code",
      "execution_count": 26,
      "metadata": {
        "id": "-Ql3ymqwD8LS"
      },
      "outputs": [],
      "source": [
        "class CrossAttention(tf.keras.layers.Layer):\n",
        "  def __init__(self, units, **kwargs):\n",
        "    super().__init__()\n",
        "    self.mha = tf.keras.layers.MultiHeadAttention(key_dim=units, num_heads=1, **kwargs)\n",
        "    self.layernorm = tf.keras.layers.LayerNormalization()\n",
        "    self.add = tf.keras.layers.Add()\n",
        "\n",
        "  def call(self, x, context):\n",
        "    shape_checker = ShapeChecker()\n",
        " \n",
        "    shape_checker(x, 'batch t units')\n",
        "    shape_checker(context, 'batch s units')\n",
        "\n",
        "    attn_output, attn_scores = self.mha(\n",
        "        query=x,\n",
        "        value=context,\n",
        "        return_attention_scores=True)\n",
        "    \n",
        "    shape_checker(x, 'batch t units')\n",
        "    shape_checker(attn_scores, 'batch heads t s')\n",
        "    \n",
        "    # Cache the attention scores for plotting later.\n",
        "    attn_scores = tf.reduce_mean(attn_scores, axis=1)\n",
        "    shape_checker(attn_scores, 'batch t s')\n",
        "    self.last_attention_weights = attn_scores\n",
        "\n",
        "    x = self.add([x, attn_output])\n",
        "    x = self.layernorm(x)\n",
        "\n",
        "    return x"
      ]
    },
    {
      "cell_type": "code",
      "execution_count": 27,
      "metadata": {
        "id": "7y7hjPkNMmHh",
        "colab": {
          "base_uri": "https://localhost:8080/"
        },
        "outputId": "0ec03254-8d6b-4dd9-80cc-aaaf78792336"
      },
      "outputs": [
        {
          "output_type": "stream",
          "name": "stdout",
          "text": [
            "Context sequence, shape (batch, s, units): (64, 18, 256)\n",
            "Target sequence, shape (batch, t, units): (64, 19, 256)\n",
            "Attention result, shape (batch, t, units): (64, 19, 256)\n",
            "Attention weights, shape (batch, t, s):    (64, 19, 18)\n"
          ]
        }
      ],
      "source": [
        "attention_layer = CrossAttention(UNITS)\n",
        "\n",
        "# Attend to the encoded tokens\n",
        "embed = tf.keras.layers.Embedding(target_text_processor.vocabulary_size(),\n",
        "                                  output_dim=UNITS, mask_zero=True)\n",
        "ex_tar_embed = embed(ex_tar_in)\n",
        "\n",
        "result = attention_layer(ex_tar_embed, ex_context)\n",
        "\n",
        "print(f'Context sequence, shape (batch, s, units): {ex_context.shape}')\n",
        "print(f'Target sequence, shape (batch, t, units): {ex_tar_embed.shape}')\n",
        "print(f'Attention result, shape (batch, t, units): {result.shape}')\n",
        "print(f'Attention weights, shape (batch, t, s):    {attention_layer.last_attention_weights.shape}')"
      ]
    },
    {
      "cell_type": "markdown",
      "metadata": {
        "id": "vx9fUhi3Pmwp"
      },
      "source": [
        "The attention weights will sum to `1` over the context sequence, at each location in the target sequence."
      ]
    },
    {
      "cell_type": "code",
      "execution_count": 28,
      "metadata": {
        "id": "zxyR7cmQPn9P",
        "colab": {
          "base_uri": "https://localhost:8080/"
        },
        "outputId": "cdb80928-e2e0-4ae9-aa41-36acd23fff14"
      },
      "outputs": [
        {
          "output_type": "execute_result",
          "data": {
            "text/plain": [
              "array([1., 1., 1., 1., 1., 1., 1., 1., 1., 1., 1., 1., 1., 1., 1., 1., 1.,\n",
              "       1., 1.], dtype=float32)"
            ]
          },
          "metadata": {},
          "execution_count": 28
        }
      ],
      "source": [
        "attention_layer.last_attention_weights[0].numpy().sum(axis=-1).round()"
      ]
    },
    {
      "cell_type": "markdown",
      "metadata": {
        "id": "AagyXMH-Jhqt"
      },
      "source": [
        "\n",
        "\n",
        "Here are the attention weights across the context sequences at `t=0`:"
      ]
    },
    {
      "cell_type": "code",
      "execution_count": 29,
      "metadata": {
        "id": "Rqr8XGsAJlf6",
        "colab": {
          "base_uri": "https://localhost:8080/",
          "height": 281
        },
        "outputId": "60928be3-6f34-487c-e010-1e52638af9bd"
      },
      "outputs": [
        {
          "output_type": "display_data",
          "data": {
            "text/plain": [
              "<Figure size 432x288 with 2 Axes>"
            ],
            "image/png": "[encoded data removed]"
          },
          "metadata": {
            "needs_background": "light"
          }
        }
      ],
      "source": [
        "attention_weights = attention_layer.last_attention_weights\n",
        "mask=(ex_context_tok != 0).numpy()\n",
        "\n",
        "plt.subplot(1, 2, 1)\n",
        "plt.pcolormesh(mask*attention_weights[:, 0, :])\n",
        "plt.title('Attention weights')\n",
        "\n",
        "plt.subplot(1, 2, 2)\n",
        "plt.pcolormesh(mask)\n",
        "plt.title('Mask');\n"
      ]
    },
    {
      "cell_type": "markdown",
      "metadata": {
        "id": "6Eil-C_NN1rp"
      },
      "source": [
        "Because of the small-random initialization the attention weights are initially all close to `1/(sequence_length)`. The model will learn to make these less uniform as training progresses."
      ]
    },
    {
      "cell_type": "markdown",
      "metadata": {
        "id": "aQ638eHN4iCK"
      },
      "source": [
        "### The decoder"
      ]
    },
    {
      "cell_type": "markdown",
      "metadata": {
        "id": "pZsQJMqNmg_L"
      },
      "source": [
        "Here is the `Decoder` class' initializer. The initializer creates all the necessary layers."
      ]
    },
    {
      "cell_type": "code",
      "execution_count": 30,
      "metadata": {
        "id": "erYvHIgAl8kh"
      },
      "outputs": [],
      "source": [
        "class Decoder(tf.keras.layers.Layer):\n",
        "  @classmethod\n",
        "  def add_method(cls, fun):\n",
        "    setattr(cls, fun.__name__, fun)\n",
        "    return fun\n",
        "\n",
        "  def __init__(self, text_processor, units):\n",
        "    super(Decoder, self).__init__()\n",
        "    self.text_processor = text_processor\n",
        "    self.vocab_size = text_processor.vocabulary_size()\n",
        "    self.word_to_id = tf.keras.layers.StringLookup(\n",
        "        vocabulary=text_processor.get_vocabulary(),\n",
        "        mask_token='', oov_token='[UNK]')\n",
        "    self.id_to_word = tf.keras.layers.StringLookup(\n",
        "        vocabulary=text_processor.get_vocabulary(),\n",
        "        mask_token='', oov_token='[UNK]',\n",
        "        invert=True)\n",
        "    self.start_token = self.word_to_id('<s>')\n",
        "    self.end_token = self.word_to_id('</s>')\n",
        "\n",
        "    self.units = units\n",
        "\n",
        "\n",
        "    # 1. The embedding layer converts token IDs to vectors\n",
        "    self.embedding = tf.keras.layers.Embedding(self.vocab_size,\n",
        "                                               units, mask_zero=True)\n",
        "\n",
        "    # 2. The RNN keeps track of what's been generated so far.\n",
        "    self.rnn = tf.keras.layers.GRU(units,\n",
        "                                   return_sequences=True,\n",
        "                                   return_state=True,\n",
        "                                   recurrent_initializer='glorot_uniform')\n",
        "\n",
        "    # 3. The RNN output will be the query for the attention layer.\n",
        "    self.attention = CrossAttention(units)\n",
        "\n",
        "    # 4. This fully connected layer produces the logits for each\n",
        "    # output token.\n",
        "    self.output_layer = tf.keras.layers.Dense(self.vocab_size)"
      ]
    },
    {
      "cell_type": "markdown",
      "metadata": {
        "id": "Sd8-nRNzFR8x"
      },
      "source": [
        "#### Training"
      ]
    },
    {
      "cell_type": "code",
      "execution_count": 31,
      "metadata": {
        "id": "PJOi5btHAPNK"
      },
      "outputs": [],
      "source": [
        "@Decoder.add_method\n",
        "def call(self,\n",
        "         context, x,\n",
        "         state=None,\n",
        "         return_state=False):  \n",
        "  shape_checker = ShapeChecker()\n",
        "  shape_checker(x, 'batch t')\n",
        "  shape_checker(context, 'batch s units')\n",
        "\n",
        "  # 1. Lookup the embeddings\n",
        "  x = self.embedding(x)\n",
        "  shape_checker(x, 'batch t units')\n",
        "\n",
        "  # 2. Process the target sequence.\n",
        "  x, state = self.rnn(x, initial_state=state)\n",
        "  shape_checker(x, 'batch t units')\n",
        "\n",
        "  # 3. Use the RNN output as the query for the attention over the context.\n",
        "  x = self.attention(x, context)\n",
        "  self.last_attention_weights = self.attention.last_attention_weights\n",
        "  shape_checker(x, 'batch t units')\n",
        "  shape_checker(self.last_attention_weights, 'batch t s')\n",
        "\n",
        "  # Step 4. Generate logit predictions for the next token.\n",
        "  logits = self.output_layer(x)\n",
        "  shape_checker(logits, 'batch t target_vocab_size')\n",
        "\n",
        "  if return_state:\n",
        "    return logits, state\n",
        "  else:\n",
        "    return logits"
      ]
    },
    {
      "cell_type": "markdown",
      "metadata": {
        "id": "E1-mLAcUEXpK"
      },
      "source": [
        "That will be sufficient for training. Create an instance of the decoder to test out:"
      ]
    },
    {
      "cell_type": "code",
      "execution_count": 32,
      "metadata": {
        "id": "4ZUMbYXIEVeA"
      },
      "outputs": [],
      "source": [
        "decoder = Decoder(target_text_processor, UNITS)"
      ]
    },
    {
      "cell_type": "markdown",
      "metadata": {
        "id": "SFWaI4wqzt4t"
      },
      "source": [
        "In training decoder will be used like this:\n",
        "\n",
        "Given the context and target tokens, for each target token it predicts the next target token. "
      ]
    },
    {
      "cell_type": "code",
      "execution_count": 33,
      "metadata": {
        "id": "5YM-lD7bzx18",
        "colab": {
          "base_uri": "https://localhost:8080/"
        },
        "outputId": "540a3fc7-46fd-494d-93d3-1cbc022ef18b"
      },
      "outputs": [
        {
          "output_type": "stream",
          "name": "stdout",
          "text": [
            "encoder output shape: (batch, s, units) (64, 18, 256)\n",
            "input target tokens shape: (batch, t) (64, 19)\n",
            "logits shape shape: (batch, target_vocabulary_size) (64, 19, 17090)\n"
          ]
        }
      ],
      "source": [
        "logits = decoder(ex_context, ex_tar_in)\n",
        "\n",
        "print(f'encoder output shape: (batch, s, units) {ex_context.shape}')\n",
        "print(f'input target tokens shape: (batch, t) {ex_tar_in.shape}')\n",
        "print(f'logits shape shape: (batch, target_vocabulary_size) {logits.shape}')"
      ]
    },
    {
      "cell_type": "markdown",
      "metadata": {
        "id": "zhS_tbk7VQkX"
      },
      "source": [
        "#### Inference\n",
        "\n",
        "To use it for inference we'll need a couple more methods:"
      ]
    },
    {
      "cell_type": "code",
      "execution_count": 34,
      "metadata": {
        "id": "SPm12cnIVRQr"
      },
      "outputs": [],
      "source": [
        "@Decoder.add_method\n",
        "def get_initial_state(self, context):\n",
        "  batch_size = tf.shape(context)[0]\n",
        "  start_tokens = tf.fill([batch_size, 1], self.start_token)\n",
        "  done = tf.zeros([batch_size, 1], dtype=tf.bool)\n",
        "  embedded = self.embedding(start_tokens)\n",
        "  return start_tokens, done, self.rnn.get_initial_state(embedded)[0]"
      ]
    },
    {
      "cell_type": "code",
      "execution_count": 35,
      "metadata": {
        "id": "TzeOhpBvVS5L"
      },
      "outputs": [],
      "source": [
        "@Decoder.add_method\n",
        "def tokens_to_text(self, tokens):\n",
        "  words = self.id_to_word(tokens)\n",
        "  result = tf.strings.reduce_join(words, axis=-1, separator=' ')\n",
        "  result = tf.strings.regex_replace(result, '^ *\\<s\\> *', '')\n",
        "  result = tf.strings.regex_replace(result, ' *\\<\\/s\\> *$', '')\n",
        "  return result"
      ]
    },
    {
      "cell_type": "code",
      "execution_count": 36,
      "metadata": {
        "id": "v6ildnz_V1MA"
      },
      "outputs": [],
      "source": [
        "@Decoder.add_method\n",
        "def get_next_token(self, context, next_token, done, state, temperature = 0.0):\n",
        "  logits, state = self(\n",
        "    context, next_token,\n",
        "    state = state,\n",
        "    return_state=True) \n",
        "  \n",
        "  if temperature == 0.0:\n",
        "    next_token = tf.argmax(logits, axis=-1)\n",
        "  else:\n",
        "    logits = logits[:, -1, :]/temperature\n",
        "    next_token = tf.random.categorical(logits, num_samples=1)\n",
        "\n",
        "  # If a sequence produces an `end_token`, set it `done`\n",
        "  done = done | (next_token == self.end_token)\n",
        "  # Once a sequence is done it only produces 0-padding.\n",
        "  next_token = tf.where(done, tf.constant(0, dtype=tf.int64), next_token)\n",
        "  \n",
        "  return next_token, done, state"
      ]
    },
    {
      "cell_type": "markdown",
      "metadata": {
        "id": "9WiXLrVs-FTE"
      },
      "source": [
        "With those extra functions, we can write a generation loop:"
      ]
    },
    {
      "cell_type": "code",
      "execution_count": 37,
      "metadata": {
        "id": "SuehagxL-JBZ",
        "colab": {
          "base_uri": "https://localhost:8080/"
        },
        "outputId": "38fcbf54-bca9-4a96-dd25-41e683b287ad"
      },
      "outputs": [
        {
          "output_type": "execute_result",
          "data": {
            "text/plain": [
              "array([b'mini poorest bodies buffaloes addictive missouri moral organizers strongly absence',\n",
              "       b\"paris telephone's slept dumped loosen sharpen researchers patronize peopletopeople approvingly\",\n",
              "       b'objectives policies consensus relocated immunisation fraught consent preaching birdcage ndegwa'],\n",
              "      dtype=object)"
            ]
          },
          "metadata": {},
          "execution_count": 37
        }
      ],
      "source": [
        "# Setup the loop variables.\n",
        "next_token, done, state = decoder.get_initial_state(ex_context)\n",
        "tokens = []\n",
        "\n",
        "for n in range(10):\n",
        "  # Run one step.\n",
        "  next_token, done, state = decoder.get_next_token(\n",
        "      ex_context, next_token, done, state, temperature=1.0)\n",
        "  # Add the token to the output.\n",
        "  tokens.append(next_token)\n",
        "\n",
        "# Stack all the tokens together.\n",
        "tokens = tf.concat(tokens, axis=-1) # (batch, t)\n",
        "\n",
        "# Convert the tokens back to a a string\n",
        "result = decoder.tokens_to_text(tokens)\n",
        "result[:3].numpy()"
      ]
    },
    {
      "cell_type": "markdown",
      "metadata": {
        "id": "5ALTdqCMLGSY"
      },
      "source": [
        "Since the model's untrained, its output items from the vocabulary almost uniformly at random."
      ]
    },
    {
      "cell_type": "markdown",
      "metadata": {
        "id": "B6xyru86m914"
      },
      "source": [
        "## The model\n",
        "\n",
        "Now that we have all the model components, we can combine them to build the model for training:"
      ]
    },
    {
      "cell_type": "code",
      "execution_count": 38,
      "metadata": {
        "id": "WWIyuy71TkJT"
      },
      "outputs": [],
      "source": [
        "class Translator(tf.keras.Model):\n",
        "  @classmethod\n",
        "  def add_method(cls, fun):\n",
        "    setattr(cls, fun.__name__, fun)\n",
        "    return fun\n",
        "\n",
        "  def __init__(self, units,\n",
        "               context_text_processor,\n",
        "               target_text_processor):\n",
        "    super().__init__()\n",
        "    # Build the encoder and decoder\n",
        "    encoder = Encoder(context_text_processor, units)\n",
        "    decoder = Decoder(target_text_processor, units)\n",
        "\n",
        "    self.encoder = encoder\n",
        "    self.decoder = decoder\n",
        "\n",
        "  def call(self, inputs):\n",
        "    context, x = inputs\n",
        "    context = self.encoder(context)\n",
        "    logits = self.decoder(context, x)\n",
        "\n",
        "    #TODO(b/250038731): remove this\n",
        "    try:\n",
        "      # Delete the keras mask, so keras doesn't scale the loss+accuracy. \n",
        "      del logits._keras_mask\n",
        "    except AttributeError:\n",
        "      pass\n",
        "\n",
        "    return logits"
      ]
    },
    {
      "cell_type": "markdown",
      "metadata": {
        "id": "5rPi0FkS2iA5"
      },
      "source": [
        "During training the model will be used like this:"
      ]
    },
    {
      "cell_type": "code",
      "execution_count": 39,
      "metadata": {
        "id": "8vhjTh84K6Mg",
        "colab": {
          "base_uri": "https://localhost:8080/"
        },
        "outputId": "1c1c18e6-96b4-42fb-ab36-18a7d2e240a4"
      },
      "outputs": [
        {
          "output_type": "stream",
          "name": "stdout",
          "text": [
            "Context tokens, shape: (batch, s, units) (64, 18)\n",
            "Target tokens, shape: (batch, t) (64, 19)\n",
            "logits, shape: (batch, t, target_vocabulary_size) (64, 19, 17090)\n"
          ]
        }
      ],
      "source": [
        "model = Translator(UNITS, context_text_processor, target_text_processor)\n",
        "\n",
        "logits = model((ex_context_tok, ex_tar_in))\n",
        "\n",
        "print(f'Context tokens, shape: (batch, s, units) {ex_context_tok.shape}')\n",
        "print(f'Target tokens, shape: (batch, t) {ex_tar_in.shape}')\n",
        "print(f'logits, shape: (batch, t, target_vocabulary_size) {logits.shape}')"
      ]
    },
    {
      "cell_type": "markdown",
      "metadata": {
        "id": "_ch_71VbIRfK"
      },
      "source": [
        "### Train"
      ]
    },
    {
      "cell_type": "markdown",
      "metadata": {
        "id": "8FmzjGmprVmE"
      },
      "source": [
        "For training, we need to implement our own masked loss and accuracy functions:"
      ]
    },
    {
      "cell_type": "code",
      "execution_count": 40,
      "metadata": {
        "id": "WmTHr5iV3jFr"
      },
      "outputs": [],
      "source": [
        "def masked_loss(y_true, y_pred):\n",
        "    # Calculate the loss for each item in the batch.\n",
        "    loss_fn = tf.keras.losses.SparseCategoricalCrossentropy(\n",
        "        from_logits=True, reduction='none')\n",
        "    loss = loss_fn(y_true, y_pred)\n",
        "\n",
        "    # Mask off the losses on padding.\n",
        "    mask = tf.cast(y_true != 0, loss.dtype)\n",
        "    loss *= mask\n",
        "\n",
        "    # Return the total.\n",
        "    return tf.reduce_sum(loss)/tf.reduce_sum(mask)"
      ]
    },
    {
      "cell_type": "code",
      "execution_count": 41,
      "metadata": {
        "id": "nRB1CTmQWOIL"
      },
      "outputs": [],
      "source": [
        "def masked_acc(y_true, y_pred):\n",
        "    # Calculate the loss for each item in the batch.\n",
        "    y_pred = tf.argmax(y_pred, axis=-1)\n",
        "    y_pred = tf.cast(y_pred, y_true.dtype)\n",
        "    \n",
        "    match = tf.cast(y_true == y_pred, tf.float32)\n",
        "    mask = tf.cast(y_true != 0, tf.float32)\n",
        "    \n",
        "    return tf.reduce_sum(match)/tf.reduce_sum(mask)"
      ]
    },
    {
      "cell_type": "markdown",
      "metadata": {
        "id": "f32GuAhw2nXm"
      },
      "source": [
        "Configure the model for training:"
      ]
    },
    {
      "cell_type": "code",
      "execution_count": 42,
      "metadata": {
        "id": "9g0DRRvm3l9X"
      },
      "outputs": [],
      "source": [
        "model.compile(optimizer='adam',\n",
        "              loss=masked_loss, \n",
        "              metrics=[masked_acc, masked_loss])"
      ]
    },
    {
      "cell_type": "markdown",
      "metadata": {
        "id": "5DWLI3pssjnx"
      },
      "source": [
        "The model is randomly initialized, and should give roughly uniform output probabilities. So it's easy to predict what the initial values of the metrics should be:"
      ]
    },
    {
      "cell_type": "code",
      "execution_count": 43,
      "metadata": {
        "id": "BuP3_LFENMJG",
        "colab": {
          "base_uri": "https://localhost:8080/"
        },
        "outputId": "c8705ced-550c-4429-ecd3-6e6940a75308"
      },
      "outputs": [
        {
          "output_type": "execute_result",
          "data": {
            "text/plain": [
              "{'expected_loss': 9.746249, 'expected_acc': 5.8513750731421886e-05}"
            ]
          },
          "metadata": {},
          "execution_count": 43
        }
      ],
      "source": [
        "vocab_size = 1.0 * target_text_processor.vocabulary_size()\n",
        "\n",
        "{\"expected_loss\": tf.math.log(vocab_size).numpy(),\n",
        " \"expected_acc\": 1/vocab_size}"
      ]
    },
    {
      "cell_type": "markdown",
      "metadata": {
        "id": "frVba49Usd0Z"
      },
      "source": [
        "That should roughly match the values returned by running a few steps of evaluation:"
      ]
    },
    {
      "cell_type": "code",
      "execution_count": 44,
      "metadata": {
        "id": "8rJITfxEsHKR",
        "colab": {
          "base_uri": "https://localhost:8080/"
        },
        "outputId": "c97c9279-e798-4c88-82f2-6ca104ba2d13"
      },
      "outputs": [
        {
          "output_type": "stream",
          "name": "stdout",
          "text": [
            "20/20 [==============================] - 20s 225ms/step - loss: 9.7575 - masked_acc: 0.0000e+00 - masked_loss: 9.7575\n"
          ]
        },
        {
          "output_type": "execute_result",
          "data": {
            "text/plain": [
              "{'loss': 9.757455825805664,\n",
              " 'masked_acc': 0.0,\n",
              " 'masked_loss': 9.757455825805664}"
            ]
          },
          "metadata": {},
          "execution_count": 44
        }
      ],
      "source": [
        "model.evaluate(val_ds, steps=20, return_dict=True)"
      ]
    },
    {
      "cell_type": "code",
      "execution_count": 46,
      "metadata": {
        "id": "BQd_esVVoSf3",
        "colab": {
          "base_uri": "https://localhost:8080/"
        },
        "outputId": "7aebb243-2aec-4590-b369-7b9d2b594d9d"
      },
      "outputs": [
        {
          "output_type": "stream",
          "name": "stdout",
          "text": [
            "Epoch 1/100\n",
            "100/100 [==============================] - 45s 286ms/step - loss: 5.7718 - masked_acc: 0.2026 - masked_loss: 5.7718 - val_loss: 4.8094 - val_masked_acc: 0.2991 - val_masked_loss: 4.8094\n",
            "Epoch 2/100\n",
            "100/100 [==============================] - 16s 163ms/step - loss: 4.4280 - masked_acc: 0.3293 - masked_loss: 4.4280 - val_loss: 4.1030 - val_masked_acc: 0.3593 - val_masked_loss: 4.1030\n",
            "Epoch 3/100\n",
            "100/100 [==============================] - 14s 136ms/step - loss: 3.9585 - masked_acc: 0.3754 - masked_loss: 3.9585 - val_loss: 3.8510 - val_masked_acc: 0.3908 - val_masked_loss: 3.8510\n",
            "Epoch 4/100\n",
            "100/100 [==============================] - 13s 134ms/step - loss: 3.6052 - masked_acc: 0.4220 - masked_loss: 3.6052 - val_loss: 3.4478 - val_masked_acc: 0.4493 - val_masked_loss: 3.4478\n",
            "Epoch 5/100\n",
            "100/100 [==============================] - 12s 123ms/step - loss: 3.3162 - masked_acc: 0.4612 - masked_loss: 3.3162 - val_loss: 3.2124 - val_masked_acc: 0.4799 - val_masked_loss: 3.2124\n",
            "Epoch 6/100\n",
            "100/100 [==============================] - 13s 135ms/step - loss: 3.0379 - masked_acc: 0.5007 - masked_loss: 3.0379 - val_loss: 2.9471 - val_masked_acc: 0.5133 - val_masked_loss: 2.9471\n",
            "Epoch 7/100\n",
            "100/100 [==============================] - 13s 128ms/step - loss: 2.8320 - masked_acc: 0.5274 - masked_loss: 2.8320 - val_loss: 2.7545 - val_masked_acc: 0.5413 - val_masked_loss: 2.7545\n",
            "Epoch 8/100\n",
            "100/100 [==============================] - 12s 120ms/step - loss: 2.7204 - masked_acc: 0.5457 - masked_loss: 2.7204 - val_loss: 2.6660 - val_masked_acc: 0.5564 - val_masked_loss: 2.6660\n",
            "Epoch 9/100\n",
            "100/100 [==============================] - 11s 108ms/step - loss: 2.5135 - masked_acc: 0.5708 - masked_loss: 2.5135 - val_loss: 2.5051 - val_masked_acc: 0.5758 - val_masked_loss: 2.5051\n",
            "Epoch 10/100\n",
            "100/100 [==============================] - 10s 104ms/step - loss: 2.4367 - masked_acc: 0.5814 - masked_loss: 2.4367 - val_loss: 2.3804 - val_masked_acc: 0.5924 - val_masked_loss: 2.3804\n",
            "Epoch 11/100\n",
            "100/100 [==============================] - 11s 115ms/step - loss: 2.3269 - masked_acc: 0.5950 - masked_loss: 2.3269 - val_loss: 2.3025 - val_masked_acc: 0.5987 - val_masked_loss: 2.3025\n",
            "Epoch 12/100\n",
            "100/100 [==============================] - 12s 118ms/step - loss: 2.2120 - masked_acc: 0.6098 - masked_loss: 2.2120 - val_loss: 2.1961 - val_masked_acc: 0.6092 - val_masked_loss: 2.1961\n",
            "Epoch 13/100\n",
            "100/100 [==============================] - 11s 112ms/step - loss: 2.1304 - masked_acc: 0.6209 - masked_loss: 2.1304 - val_loss: 2.1303 - val_masked_acc: 0.6227 - val_masked_loss: 2.1303\n",
            "Epoch 14/100\n",
            "100/100 [==============================] - 11s 113ms/step - loss: 2.1348 - masked_acc: 0.6200 - masked_loss: 2.1348 - val_loss: 2.1389 - val_masked_acc: 0.6185 - val_masked_loss: 2.1389\n",
            "Epoch 15/100\n",
            "100/100 [==============================] - 10s 105ms/step - loss: 2.0707 - masked_acc: 0.6320 - masked_loss: 2.0707 - val_loss: 1.9728 - val_masked_acc: 0.6435 - val_masked_loss: 1.9728\n",
            "Epoch 16/100\n",
            "100/100 [==============================] - 11s 110ms/step - loss: 1.6263 - masked_acc: 0.6777 - masked_loss: 1.6263 - val_loss: 1.9222 - val_masked_acc: 0.6462 - val_masked_loss: 1.9222\n",
            "Epoch 17/100\n",
            "100/100 [==============================] - 11s 114ms/step - loss: 1.5878 - masked_acc: 0.6836 - masked_loss: 1.5878 - val_loss: 1.9568 - val_masked_acc: 0.6467 - val_masked_loss: 1.9568\n",
            "Epoch 18/100\n",
            "100/100 [==============================] - 11s 112ms/step - loss: 1.5775 - masked_acc: 0.6834 - masked_loss: 1.5775 - val_loss: 1.9913 - val_masked_acc: 0.6443 - val_masked_loss: 1.9913\n",
            "Epoch 19/100\n",
            "100/100 [==============================] - 12s 117ms/step - loss: 1.5930 - masked_acc: 0.6834 - masked_loss: 1.5930 - val_loss: 2.0328 - val_masked_acc: 0.6431 - val_masked_loss: 2.0328\n",
            "Epoch 20/100\n",
            "100/100 [==============================] - 12s 118ms/step - loss: 1.5813 - masked_acc: 0.6864 - masked_loss: 1.5813 - val_loss: 1.9492 - val_masked_acc: 0.6494 - val_masked_loss: 1.9492\n",
            "Epoch 21/100\n",
            "100/100 [==============================] - 11s 106ms/step - loss: 1.5127 - masked_acc: 0.6938 - masked_loss: 1.5127 - val_loss: 1.8218 - val_masked_acc: 0.6658 - val_masked_loss: 1.8218\n",
            "Epoch 22/100\n",
            "100/100 [==============================] - 11s 112ms/step - loss: 1.5215 - masked_acc: 0.6939 - masked_loss: 1.5215 - val_loss: 1.7643 - val_masked_acc: 0.6809 - val_masked_loss: 1.7643\n",
            "Epoch 23/100\n",
            "100/100 [==============================] - 11s 111ms/step - loss: 1.5500 - masked_acc: 0.6913 - masked_loss: 1.5500 - val_loss: 1.7460 - val_masked_acc: 0.6739 - val_masked_loss: 1.7460\n",
            "Epoch 24/100\n",
            "100/100 [==============================] - 12s 116ms/step - loss: 1.4951 - masked_acc: 0.6970 - masked_loss: 1.4951 - val_loss: 1.6520 - val_masked_acc: 0.6918 - val_masked_loss: 1.6520\n",
            "Epoch 25/100\n",
            "100/100 [==============================] - 11s 106ms/step - loss: 1.5059 - masked_acc: 0.6966 - masked_loss: 1.5059 - val_loss: 1.8183 - val_masked_acc: 0.6775 - val_masked_loss: 1.8183\n",
            "Epoch 26/100\n",
            "100/100 [==============================] - 11s 109ms/step - loss: 1.4762 - masked_acc: 0.7031 - masked_loss: 1.4762 - val_loss: 1.7112 - val_masked_acc: 0.6872 - val_masked_loss: 1.7112\n",
            "Epoch 27/100\n",
            "100/100 [==============================] - 12s 117ms/step - loss: 1.4575 - masked_acc: 0.7048 - masked_loss: 1.4575 - val_loss: 1.7801 - val_masked_acc: 0.6728 - val_masked_loss: 1.7801\n",
            "Epoch 28/100\n",
            "100/100 [==============================] - 11s 112ms/step - loss: 1.4725 - masked_acc: 0.7039 - masked_loss: 1.4725 - val_loss: 1.6873 - val_masked_acc: 0.6882 - val_masked_loss: 1.6873\n",
            "Epoch 29/100\n",
            "100/100 [==============================] - 12s 116ms/step - loss: 1.4378 - masked_acc: 0.7050 - masked_loss: 1.4378 - val_loss: 1.6442 - val_masked_acc: 0.6915 - val_masked_loss: 1.6442\n",
            "Epoch 30/100\n",
            "100/100 [==============================] - 11s 112ms/step - loss: 1.4564 - masked_acc: 0.7056 - masked_loss: 1.4564 - val_loss: 1.6826 - val_masked_acc: 0.6859 - val_masked_loss: 1.6826\n",
            "Epoch 31/100\n",
            "100/100 [==============================] - 10s 104ms/step - loss: 0.9689 - masked_acc: 0.7703 - masked_loss: 0.9712 - val_loss: 1.6309 - val_masked_acc: 0.7002 - val_masked_loss: 1.6309\n",
            "Epoch 32/100\n",
            "100/100 [==============================] - 11s 110ms/step - loss: 0.9589 - masked_acc: 0.7717 - masked_loss: 0.9589 - val_loss: 1.7039 - val_masked_acc: 0.6935 - val_masked_loss: 1.7039\n",
            "Epoch 33/100\n",
            "100/100 [==============================] - 12s 116ms/step - loss: 0.9717 - masked_acc: 0.7706 - masked_loss: 0.9717 - val_loss: 1.6431 - val_masked_acc: 0.6945 - val_masked_loss: 1.6431\n",
            "Epoch 34/100\n",
            "100/100 [==============================] - 12s 118ms/step - loss: 0.9813 - masked_acc: 0.7666 - masked_loss: 0.9813 - val_loss: 1.7443 - val_masked_acc: 0.6829 - val_masked_loss: 1.7443\n",
            "Epoch 35/100\n",
            "100/100 [==============================] - 11s 109ms/step - loss: 1.0168 - masked_acc: 0.7632 - masked_loss: 1.0168 - val_loss: 1.7104 - val_masked_acc: 0.6940 - val_masked_loss: 1.7104\n",
            "Epoch 36/100\n",
            "100/100 [==============================] - 11s 105ms/step - loss: 1.0260 - masked_acc: 0.7584 - masked_loss: 1.0260 - val_loss: 1.7230 - val_masked_acc: 0.6929 - val_masked_loss: 1.7230\n",
            "Epoch 37/100\n",
            "100/100 [==============================] - 11s 107ms/step - loss: 1.0168 - masked_acc: 0.7610 - masked_loss: 1.0168 - val_loss: 1.6863 - val_masked_acc: 0.6966 - val_masked_loss: 1.6863\n",
            "Epoch 38/100\n",
            "100/100 [==============================] - 16s 165ms/step - loss: 1.0460 - masked_acc: 0.7551 - masked_loss: 1.0460 - val_loss: 1.7688 - val_masked_acc: 0.6945 - val_masked_loss: 1.7688\n",
            "Epoch 39/100\n",
            "100/100 [==============================] - 11s 115ms/step - loss: 1.0197 - masked_acc: 0.7596 - masked_loss: 1.0197 - val_loss: 1.6357 - val_masked_acc: 0.7002 - val_masked_loss: 1.6357\n",
            "Epoch 40/100\n",
            "100/100 [==============================] - 11s 113ms/step - loss: 1.0694 - masked_acc: 0.7522 - masked_loss: 1.0694 - val_loss: 1.6401 - val_masked_acc: 0.7030 - val_masked_loss: 1.6401\n",
            "Epoch 41/100\n",
            "100/100 [==============================] - 12s 120ms/step - loss: 1.0441 - masked_acc: 0.7560 - masked_loss: 1.0441 - val_loss: 1.7496 - val_masked_acc: 0.6990 - val_masked_loss: 1.7496\n",
            "Epoch 42/100\n",
            "100/100 [==============================] - 12s 116ms/step - loss: 1.0373 - masked_acc: 0.7587 - masked_loss: 1.0373 - val_loss: 1.6797 - val_masked_acc: 0.7019 - val_masked_loss: 1.6797\n",
            "Epoch 43/100\n",
            "100/100 [==============================] - 10s 100ms/step - loss: 1.0467 - masked_acc: 0.7577 - masked_loss: 1.0467 - val_loss: 1.6462 - val_masked_acc: 0.6947 - val_masked_loss: 1.6462\n",
            "Epoch 44/100\n",
            "100/100 [==============================] - 13s 128ms/step - loss: 1.0223 - masked_acc: 0.7599 - masked_loss: 1.0223 - val_loss: 1.6177 - val_masked_acc: 0.7017 - val_masked_loss: 1.6177\n",
            "Epoch 45/100\n",
            "100/100 [==============================] - 12s 116ms/step - loss: 1.0417 - masked_acc: 0.7583 - masked_loss: 1.0417 - val_loss: 1.5616 - val_masked_acc: 0.7084 - val_masked_loss: 1.5616\n",
            "Epoch 46/100\n",
            "100/100 [==============================] - 11s 113ms/step - loss: 0.6722 - masked_acc: 0.8265 - masked_loss: 0.6744 - val_loss: 1.6896 - val_masked_acc: 0.7068 - val_masked_loss: 1.6896\n",
            "Epoch 47/100\n",
            "100/100 [==============================] - 11s 115ms/step - loss: 0.6550 - masked_acc: 0.8266 - masked_loss: 0.6550 - val_loss: 1.7545 - val_masked_acc: 0.6977 - val_masked_loss: 1.7545\n",
            "Epoch 48/100\n",
            "100/100 [==============================] - 11s 114ms/step - loss: 0.6697 - masked_acc: 0.8238 - masked_loss: 0.6697 - val_loss: 1.5260 - val_masked_acc: 0.7214 - val_masked_loss: 1.5260\n",
            "Epoch 49/100\n",
            "100/100 [==============================] - 10s 100ms/step - loss: 0.7008 - masked_acc: 0.8172 - masked_loss: 0.7008 - val_loss: 1.6495 - val_masked_acc: 0.7099 - val_masked_loss: 1.6495\n",
            "Epoch 50/100\n",
            "100/100 [==============================] - 12s 121ms/step - loss: 0.7014 - masked_acc: 0.8178 - masked_loss: 0.7014 - val_loss: 1.6740 - val_masked_acc: 0.7081 - val_masked_loss: 1.6740\n",
            "Epoch 51/100\n",
            "100/100 [==============================] - 11s 111ms/step - loss: 0.7100 - masked_acc: 0.8142 - masked_loss: 0.7100 - val_loss: 1.7515 - val_masked_acc: 0.7068 - val_masked_loss: 1.7515\n",
            "Epoch 52/100\n",
            "100/100 [==============================] - 12s 117ms/step - loss: 0.7339 - masked_acc: 0.8096 - masked_loss: 0.7339 - val_loss: 1.7300 - val_masked_acc: 0.7048 - val_masked_loss: 1.7300\n",
            "Epoch 53/100\n",
            "100/100 [==============================] - 12s 116ms/step - loss: 0.7375 - masked_acc: 0.8076 - masked_loss: 0.7375 - val_loss: 1.7224 - val_masked_acc: 0.7000 - val_masked_loss: 1.7224\n",
            "Epoch 54/100\n",
            "100/100 [==============================] - 10s 101ms/step - loss: 0.7482 - masked_acc: 0.8075 - masked_loss: 0.7482 - val_loss: 1.8937 - val_masked_acc: 0.6867 - val_masked_loss: 1.8937\n",
            "Epoch 55/100\n",
            "100/100 [==============================] - 11s 108ms/step - loss: 0.7616 - masked_acc: 0.8044 - masked_loss: 0.7616 - val_loss: 1.6368 - val_masked_acc: 0.7179 - val_masked_loss: 1.6368\n",
            "Epoch 56/100\n",
            "100/100 [==============================] - 11s 111ms/step - loss: 0.7608 - masked_acc: 0.8042 - masked_loss: 0.7608 - val_loss: 1.6532 - val_masked_acc: 0.7114 - val_masked_loss: 1.6532\n",
            "Epoch 57/100\n",
            "100/100 [==============================] - 11s 115ms/step - loss: 0.7716 - masked_acc: 0.8029 - masked_loss: 0.7716 - val_loss: 1.7411 - val_masked_acc: 0.7094 - val_masked_loss: 1.7411\n",
            "Epoch 58/100\n",
            "100/100 [==============================] - 11s 109ms/step - loss: 0.7729 - masked_acc: 0.8025 - masked_loss: 0.7729 - val_loss: 1.5764 - val_masked_acc: 0.7238 - val_masked_loss: 1.5764\n",
            "Epoch 59/100\n",
            "100/100 [==============================] - 10s 100ms/step - loss: 0.7762 - masked_acc: 0.8006 - masked_loss: 0.7762 - val_loss: 1.7079 - val_masked_acc: 0.7044 - val_masked_loss: 1.7079\n",
            "Epoch 60/100\n",
            "100/100 [==============================] - 12s 118ms/step - loss: 0.8029 - masked_acc: 0.7967 - masked_loss: 0.8029 - val_loss: 1.6364 - val_masked_acc: 0.7144 - val_masked_loss: 1.6364\n",
            "Epoch 61/100\n",
            "100/100 [==============================] - 12s 117ms/step - loss: 0.5163 - masked_acc: 0.8572 - masked_loss: 0.5177 - val_loss: 1.7320 - val_masked_acc: 0.7117 - val_masked_loss: 1.7320\n",
            "Epoch 62/100\n",
            "100/100 [==============================] - 11s 113ms/step - loss: 0.5029 - masked_acc: 0.8619 - masked_loss: 0.5029 - val_loss: 1.6508 - val_masked_acc: 0.7216 - val_masked_loss: 1.6508\n",
            "Epoch 63/100\n",
            "100/100 [==============================] - 12s 123ms/step - loss: 0.5079 - masked_acc: 0.8595 - masked_loss: 0.5079 - val_loss: 1.7370 - val_masked_acc: 0.7138 - val_masked_loss: 1.7370\n",
            "Epoch 64/100\n",
            "100/100 [==============================] - 10s 105ms/step - loss: 0.5251 - masked_acc: 0.8539 - masked_loss: 0.5251 - val_loss: 1.6658 - val_masked_acc: 0.7172 - val_masked_loss: 1.6658\n",
            "Epoch 65/100\n",
            "100/100 [==============================] - 10s 105ms/step - loss: 0.5311 - masked_acc: 0.8543 - masked_loss: 0.5311 - val_loss: 1.7375 - val_masked_acc: 0.7141 - val_masked_loss: 1.7375\n",
            "Epoch 66/100\n",
            "100/100 [==============================] - 11s 114ms/step - loss: 0.5529 - masked_acc: 0.8481 - masked_loss: 0.5529 - val_loss: 1.8163 - val_masked_acc: 0.7086 - val_masked_loss: 1.8163\n",
            "Epoch 67/100\n",
            "100/100 [==============================] - 11s 115ms/step - loss: 0.5537 - masked_acc: 0.8476 - masked_loss: 0.5537 - val_loss: 1.7067 - val_masked_acc: 0.7141 - val_masked_loss: 1.7067\n",
            "Epoch 68/100\n",
            "100/100 [==============================] - 11s 111ms/step - loss: 0.5761 - masked_acc: 0.8433 - masked_loss: 0.5761 - val_loss: 1.7218 - val_masked_acc: 0.7176 - val_masked_loss: 1.7218\n",
            "Epoch 69/100\n",
            "100/100 [==============================] - 11s 110ms/step - loss: 0.5994 - masked_acc: 0.8386 - masked_loss: 0.5994 - val_loss: 1.8008 - val_masked_acc: 0.7091 - val_masked_loss: 1.8008\n",
            "Epoch 70/100\n",
            "100/100 [==============================] - 11s 105ms/step - loss: 0.5856 - masked_acc: 0.8410 - masked_loss: 0.5856 - val_loss: 1.7148 - val_masked_acc: 0.7089 - val_masked_loss: 1.7148\n",
            "Epoch 71/100\n",
            "100/100 [==============================] - 11s 112ms/step - loss: 0.6023 - masked_acc: 0.8366 - masked_loss: 0.6023 - val_loss: 1.7501 - val_masked_acc: 0.7150 - val_masked_loss: 1.7501\n",
            "Epoch 72/100\n",
            "100/100 [==============================] - 12s 116ms/step - loss: 0.6172 - masked_acc: 0.8335 - masked_loss: 0.6172 - val_loss: 1.7598 - val_masked_acc: 0.7172 - val_masked_loss: 1.7598\n",
            "Epoch 73/100\n",
            "100/100 [==============================] - 12s 117ms/step - loss: 0.5905 - masked_acc: 0.8389 - masked_loss: 0.5905 - val_loss: 1.6946 - val_masked_acc: 0.7173 - val_masked_loss: 1.6946\n",
            "Epoch 74/100\n",
            "100/100 [==============================] - 11s 110ms/step - loss: 0.6084 - masked_acc: 0.8374 - masked_loss: 0.6084 - val_loss: 1.8326 - val_masked_acc: 0.7049 - val_masked_loss: 1.8326\n",
            "Epoch 75/100\n",
            "100/100 [==============================] - 11s 106ms/step - loss: 0.6349 - masked_acc: 0.8313 - masked_loss: 0.6349 - val_loss: 1.7994 - val_masked_acc: 0.7074 - val_masked_loss: 1.7994\n",
            "Epoch 76/100\n",
            "100/100 [==============================] - 12s 117ms/step - loss: 0.4194 - masked_acc: 0.8826 - masked_loss: 0.4214 - val_loss: 1.5762 - val_masked_acc: 0.7346 - val_masked_loss: 1.5762\n",
            "Epoch 77/100\n",
            "100/100 [==============================] - 12s 117ms/step - loss: 0.3986 - masked_acc: 0.8865 - masked_loss: 0.3986 - val_loss: 1.8297 - val_masked_acc: 0.7084 - val_masked_loss: 1.8297\n",
            "Epoch 78/100\n",
            "100/100 [==============================] - 12s 119ms/step - loss: 0.4131 - masked_acc: 0.8832 - masked_loss: 0.4131 - val_loss: 1.8840 - val_masked_acc: 0.7031 - val_masked_loss: 1.8840\n",
            "Epoch 79/100\n",
            "100/100 [==============================] - 11s 110ms/step - loss: 0.4271 - masked_acc: 0.8782 - masked_loss: 0.4271 - val_loss: 1.7654 - val_masked_acc: 0.7186 - val_masked_loss: 1.7654\n",
            "Epoch 80/100\n",
            "100/100 [==============================] - 11s 109ms/step - loss: 0.4401 - masked_acc: 0.8756 - masked_loss: 0.4401 - val_loss: 1.8087 - val_masked_acc: 0.7130 - val_masked_loss: 1.8087\n",
            "Epoch 81/100\n",
            "100/100 [==============================] - 10s 101ms/step - loss: 0.4505 - masked_acc: 0.8728 - masked_loss: 0.4505 - val_loss: 1.7725 - val_masked_acc: 0.7208 - val_masked_loss: 1.7725\n",
            "Epoch 82/100\n",
            "100/100 [==============================] - 11s 111ms/step - loss: 0.4716 - masked_acc: 0.8662 - masked_loss: 0.4716 - val_loss: 1.8306 - val_masked_acc: 0.7131 - val_masked_loss: 1.8306\n",
            "Epoch 83/100\n",
            "100/100 [==============================] - 11s 114ms/step - loss: 0.4661 - masked_acc: 0.8688 - masked_loss: 0.4661 - val_loss: 1.8333 - val_masked_acc: 0.7112 - val_masked_loss: 1.8333\n",
            "Epoch 84/100\n",
            "100/100 [==============================] - 11s 111ms/step - loss: 0.4733 - masked_acc: 0.8640 - masked_loss: 0.4733 - val_loss: 1.9077 - val_masked_acc: 0.7107 - val_masked_loss: 1.9077\n",
            "Epoch 85/100\n",
            "100/100 [==============================] - 11s 109ms/step - loss: 0.4795 - masked_acc: 0.8651 - masked_loss: 0.4795 - val_loss: 1.6839 - val_masked_acc: 0.7279 - val_masked_loss: 1.6839\n",
            "Epoch 86/100\n",
            "100/100 [==============================] - 11s 110ms/step - loss: 0.4898 - masked_acc: 0.8615 - masked_loss: 0.4898 - val_loss: 1.7994 - val_masked_acc: 0.7161 - val_masked_loss: 1.7994\n",
            "Epoch 87/100\n",
            "100/100 [==============================] - 12s 116ms/step - loss: 0.5034 - masked_acc: 0.8594 - masked_loss: 0.5034 - val_loss: 1.7993 - val_masked_acc: 0.7063 - val_masked_loss: 1.7993\n",
            "Epoch 88/100\n",
            "100/100 [==============================] - 11s 111ms/step - loss: 0.5010 - masked_acc: 0.8617 - masked_loss: 0.5010 - val_loss: 1.7581 - val_masked_acc: 0.7218 - val_masked_loss: 1.7581\n",
            "Epoch 89/100\n",
            "100/100 [==============================] - 11s 111ms/step - loss: 0.5082 - masked_acc: 0.8564 - masked_loss: 0.5082 - val_loss: 1.7169 - val_masked_acc: 0.7199 - val_masked_loss: 1.7169\n",
            "Epoch 90/100\n",
            "100/100 [==============================] - 11s 109ms/step - loss: 0.5177 - masked_acc: 0.8568 - masked_loss: 0.5177 - val_loss: 1.7959 - val_masked_acc: 0.7187 - val_masked_loss: 1.7959\n",
            "Epoch 91/100\n",
            "100/100 [==============================] - 11s 113ms/step - loss: 0.3554 - masked_acc: 0.8958 - masked_loss: 0.3576 - val_loss: 1.7932 - val_masked_acc: 0.7243 - val_masked_loss: 1.7932\n",
            "Epoch 92/100\n",
            "100/100 [==============================] - 11s 110ms/step - loss: 0.3328 - masked_acc: 0.9032 - masked_loss: 0.3328 - val_loss: 1.8588 - val_masked_acc: 0.7182 - val_masked_loss: 1.8588\n",
            "Epoch 93/100\n",
            "100/100 [==============================] - 12s 117ms/step - loss: 0.3357 - masked_acc: 0.9021 - masked_loss: 0.3357 - val_loss: 1.8390 - val_masked_acc: 0.7215 - val_masked_loss: 1.8390\n",
            "Epoch 94/100\n",
            "100/100 [==============================] - 11s 110ms/step - loss: 0.3582 - masked_acc: 0.8947 - masked_loss: 0.3582 - val_loss: 1.8749 - val_masked_acc: 0.7158 - val_masked_loss: 1.8749\n",
            "Epoch 95/100\n",
            "100/100 [==============================] - 11s 111ms/step - loss: 0.3669 - masked_acc: 0.8933 - masked_loss: 0.3669 - val_loss: 1.9114 - val_masked_acc: 0.7164 - val_masked_loss: 1.9114\n",
            "Epoch 96/100\n",
            "100/100 [==============================] - 11s 107ms/step - loss: 0.3721 - masked_acc: 0.8941 - masked_loss: 0.3721 - val_loss: 1.7214 - val_masked_acc: 0.7306 - val_masked_loss: 1.7214\n",
            "Epoch 97/100\n",
            "100/100 [==============================] - 11s 106ms/step - loss: 0.3942 - masked_acc: 0.8867 - masked_loss: 0.3942 - val_loss: 1.8791 - val_masked_acc: 0.7202 - val_masked_loss: 1.8791\n",
            "Epoch 98/100\n",
            "100/100 [==============================] - 11s 110ms/step - loss: 0.3887 - masked_acc: 0.8885 - masked_loss: 0.3887 - val_loss: 1.8058 - val_masked_acc: 0.7232 - val_masked_loss: 1.8058\n",
            "Epoch 99/100\n",
            "100/100 [==============================] - 11s 110ms/step - loss: 0.4003 - masked_acc: 0.8858 - masked_loss: 0.4003 - val_loss: 1.7552 - val_masked_acc: 0.7334 - val_masked_loss: 1.7552\n",
            "Epoch 100/100\n",
            "100/100 [==============================] - 11s 112ms/step - loss: 0.4074 - masked_acc: 0.8830 - masked_loss: 0.4074 - val_loss: 1.7931 - val_masked_acc: 0.7207 - val_masked_loss: 1.7931\n"
          ]
        }
      ],
      "source": [
        "history = model.fit(\n",
        "    train_ds.repeat(), \n",
        "    epochs=100,\n",
        "    steps_per_epoch = 100,\n",
        "    validation_data=val_ds,\n",
        "    validation_steps = 20,\n",
        "    #callbacks=[tf.keras.callbacks.EarlyStopping(patience=5)]\n",
        "    )"
      ]
    },
    {
      "cell_type": "code",
      "execution_count": 47,
      "metadata": {
        "id": "38rLdlmtQHCm",
        "colab": {
          "base_uri": "https://localhost:8080/",
          "height": 299
        },
        "outputId": "862d58fa-02ce-4f43-e6c2-bd9e455363e8"
      },
      "outputs": [
        {
          "output_type": "execute_result",
          "data": {
            "text/plain": [
              "<matplotlib.legend.Legend at 0x7fb158182b20>"
            ]
          },
          "metadata": {},
          "execution_count": 47
        },
        {
          "output_type": "display_data",
          "data": {
            "text/plain": [
              "<Figure size 432x288 with 1 Axes>"
            ],
            "image/png": "[encoded data removed]"
          },
          "metadata": {
            "needs_background": "light"
          }
        }
      ],
      "source": [
        "plt.plot(history.history['loss'], label='loss')\n",
        "plt.plot(history.history['val_loss'], label='val_loss')\n",
        "plt.ylim([0, max(plt.ylim())])\n",
        "plt.xlabel('Epoch #')\n",
        "plt.ylabel('CE/token')\n",
        "plt.legend()"
      ]
    },
    {
      "cell_type": "code",
      "execution_count": 48,
      "metadata": {
        "id": "KkhXRASNG80_",
        "colab": {
          "base_uri": "https://localhost:8080/",
          "height": 296
        },
        "outputId": "975da2fd-cf44-44fc-e5f9-56675a9904c3"
      },
      "outputs": [
        {
          "output_type": "execute_result",
          "data": {
            "text/plain": [
              "<matplotlib.legend.Legend at 0x7fb14a04d730>"
            ]
          },
          "metadata": {},
          "execution_count": 48
        },
        {
          "output_type": "display_data",
          "data": {
            "text/plain": [
              "<Figure size 432x288 with 1 Axes>"
            ],
            "image/png": "[encoded data removed]"
          },
          "metadata": {
            "needs_background": "light"
          }
        }
      ],
      "source": [
        "plt.plot(history.history['masked_acc'], label='accuracy')\n",
        "plt.plot(history.history['val_masked_acc'], label='val_accuracy')\n",
        "plt.ylim([0, max(plt.ylim())])\n",
        "plt.xlabel('Epoch #')\n",
        "plt.ylabel('CE/token')\n",
        "plt.legend()"
      ]
    },
    {
      "cell_type": "markdown",
      "metadata": {
        "id": "mU3Ce8M6I3rz"
      },
      "source": [
        "### Translate\n"
      ]
    },
    {
      "cell_type": "code",
      "execution_count": 49,
      "metadata": {
        "id": "mmgYPCVgEwp_"
      },
      "outputs": [],
      "source": [
        "@Translator.add_method\n",
        "def translate(self,\n",
        "              texts, *,\n",
        "              max_length=50,\n",
        "              temperature=0.0):\n",
        "  # Process the input texts\n",
        "  context = self.encoder.convert_input(texts)\n",
        "  batch_size = tf.shape(texts)[0]\n",
        "\n",
        "  # Setup the loop inputs\n",
        "  tokens = []\n",
        "  attention_weights = []\n",
        "  next_token, done, state = self.decoder.get_initial_state(context)\n",
        "\n",
        "  for _ in range(max_length):\n",
        "    # Generate the next token\n",
        "    next_token, done, state = self.decoder.get_next_token(\n",
        "        context, next_token, done,  state, temperature)\n",
        "        \n",
        "    # Collect the generated tokens\n",
        "    tokens.append(next_token)\n",
        "    attention_weights.append(self.decoder.last_attention_weights)\n",
        "    \n",
        "    if tf.executing_eagerly() and tf.reduce_all(done):\n",
        "      break\n",
        "\n",
        "  # Stack the lists of tokens and attention weights.\n",
        "  tokens = tf.concat(tokens, axis=-1)   # t*[(batch 1)] -> (batch, t)\n",
        "  self.last_attention_weights = tf.concat(attention_weights, axis=1)  # t*[(batch 1 s)] -> (batch, t s)\n",
        "\n",
        "  result = self.decoder.tokens_to_text(tokens)\n",
        "  result = tf.strings.regex_replace(result, r' ([.?!]) ', r'\\1')\n",
        "  return result"
      ]
    },
    {
      "cell_type": "markdown",
      "metadata": {
        "id": "U4XufRntbbva"
      },
      "source": [
        "Here are the two helper methods, used above, to convert tokens to text, and to get the next token:"
      ]
    },
    {
      "cell_type": "code",
      "execution_count": 50,
      "metadata": {
        "id": "E5hqvbR5FUCD",
        "colab": {
          "base_uri": "https://localhost:8080/",
          "height": 35
        },
        "outputId": "7e912d87-203f-4df9-a666-7ecbdfc7fa7d"
      },
      "outputs": [
        {
          "output_type": "execute_result",
          "data": {
            "text/plain": [
              "'thanks.'"
            ],
            "application/vnd.google.colaboratory.intrinsic+json": {
              "type": "string"
            }
          },
          "metadata": {},
          "execution_count": 50
        }
      ],
      "source": [
        "result = model.translate(['Galatoomaa.']) # Thanks\n",
        "result = result[0].numpy().decode()\n",
        "result"
      ]
    },
    {
      "cell_type": "markdown",
      "metadata": {
        "id": "wQ1iU63cVgfs"
      },
      "source": [
        "Use that to generate the attention plot:"
      ]
    },
    {
      "cell_type": "code",
      "execution_count": 51,
      "metadata": {
        "id": "s5hQWlbN3jGF"
      },
      "outputs": [],
      "source": [
        "@Translator.add_method\n",
        "def plot_attention(self, text, **kwargs):\n",
        "  assert isinstance(text, str)\n",
        "  output = self.translate([text], **kwargs)\n",
        "  output = output[0].numpy().decode()\n",
        "\n",
        "  attention = self.last_attention_weights[0]\n",
        "\n",
        "  context = tf_lower_and_split_punct(text)\n",
        "  context = context.numpy().decode().split()\n",
        "\n",
        "  output = tf_lower_and_split_punct(output)\n",
        "  output = output.numpy().decode().split()[1:]\n",
        "\n",
        "  fig = plt.figure(figsize=(10, 10))\n",
        "  ax = fig.add_subplot(1, 1, 1)\n",
        "\n",
        "  ax.matshow(attention, cmap='viridis', vmin=0.0)\n",
        "\n",
        "  fontdict = {'fontsize': 14}\n",
        "\n",
        "  ax.set_xticklabels([''] + context, fontdict=fontdict, rotation=90)\n",
        "  ax.set_yticklabels([''] + output, fontdict=fontdict)\n",
        "\n",
        "  ax.xaxis.set_major_locator(ticker.MultipleLocator(1))\n",
        "  ax.yaxis.set_major_locator(ticker.MultipleLocator(1))\n",
        "\n",
        "  ax.set_xlabel('Input text')\n",
        "  ax.set_ylabel('Output text')"
      ]
    },
    {
      "cell_type": "code",
      "execution_count": 52,
      "metadata": {
        "id": "rrGawQv2eiA4",
        "colab": {
          "base_uri": "https://localhost:8080/",
          "height": 554
        },
        "outputId": "9e2eff41-9e89-4d88-fb5f-b8af66fabbaa"
      },
      "outputs": [
        {
          "output_type": "display_data",
          "data": {
            "text/plain": [
              "<Figure size 720x720 with 1 Axes>"
            ],
            "image/png": "[encoded data removed]"
          },
          "metadata": {
            "needs_background": "light"
          }
        }
      ],
      "source": [
        "model.plot_attention('Galatoomaa.') # Thanks"
      ]
    },
    {
      "cell_type": "markdown",
      "metadata": {
        "id": "JHBdOf9duumm"
      },
      "source": [
        "Translate a few more sentences and plot them:"
      ]
    },
    {
      "cell_type": "code",
      "execution_count": 53,
      "metadata": {
        "id": "flT0VlQZK11s",
        "colab": {
          "base_uri": "https://localhost:8080/",
          "height": 687
        },
        "outputId": "8bdc4372-7f0a-4712-a81f-355d2c1b5f94"
      },
      "outputs": [
        {
          "output_type": "stream",
          "name": "stdout",
          "text": [
            "CPU times: user 395 ms, sys: 6.58 ms, total: 402 ms\n",
            "Wall time: 390 ms\n"
          ]
        },
        {
          "output_type": "display_data",
          "data": {
            "text/plain": [
              "<Figure size 720x720 with 1 Axes>"
            ],
            "image/png": "[encoded data removed]"
          },
          "metadata": {
            "needs_background": "light"
          }
        }
      ],
      "source": [
        "%%time\n",
        "# This is my life.\n",
        "model.plot_attention('Kun jireenya kooti.') #This is my life"
      ]
    },
    {
      "cell_type": "code",
      "execution_count": 54,
      "metadata": {
        "id": "t-fPYP_9K8xa",
        "colab": {
          "base_uri": "https://localhost:8080/",
          "height": 552
        },
        "outputId": "03fc3479-bc2c-4fb2-c938-59c5afe77f44"
      },
      "outputs": [
        {
          "output_type": "stream",
          "name": "stdout",
          "text": [
            "CPU times: user 235 ms, sys: 4.86 ms, total: 239 ms\n",
            "Wall time: 235 ms\n"
          ]
        },
        {
          "output_type": "display_data",
          "data": {
            "text/plain": [
              "<Figure size 720x720 with 1 Axes>"
            ],
            "image/png": "[encoded data removed]"
          },
          "metadata": {
            "needs_background": "light"
          }
        }
      ],
      "source": [
        "%%time\n",
        " # Try to find out.'\n",
        "model.plot_attention(\"Akkam!\") #Hello!"
      ]
    },
    {
      "cell_type": "markdown",
      "metadata": {
        "id": "Vtz6QBoGWqT2"
      },
      "source": [
        "The raw data is sorted by length, so try translating the longest sequence:"
      ]
    },
    {
      "cell_type": "code",
      "execution_count": 55,
      "metadata": {
        "id": "-FUHFLEvSMbG",
        "colab": {
          "base_uri": "https://localhost:8080/"
        },
        "outputId": "0cb1557a-eb82-44dc-dfb2-e4450a177a85"
      },
      "outputs": [
        {
          "output_type": "stream",
          "name": "stdout",
          "text": [
            "Expected output:\n",
            " Various sport competitions, exhibitions and symposiums are also\n",
            "scheduled events of the festival.\n"
          ]
        }
      ],
      "source": [
        "long_text = context_raw[-1]\n",
        "import textwrap\n",
        "print('Expected output:\\n', '\\n'.join(textwrap.wrap(target_raw[-1])))"
      ]
    },
    {
      "cell_type": "code",
      "execution_count": 56,
      "metadata": {
        "id": "lDa_8NaN_RUy",
        "colab": {
          "base_uri": "https://localhost:8080/",
          "height": 748
        },
        "outputId": "df75e341-2730-42db-ad4b-aac14c81ecd0"
      },
      "outputs": [
        {
          "output_type": "display_data",
          "data": {
            "text/plain": [
              "<Figure size 720x720 with 1 Axes>"
            ],
            "image/png": "[encoded data removed]"
          },
          "metadata": {
            "needs_background": "light"
          }
        }
      ],
      "source": [
        "model.plot_attention(long_text)"
      ]
    },
    {
      "cell_type": "markdown",
      "metadata": {
        "id": "PToqG3GiIUPM"
      },
      "source": [
        "The `translate` function works on batches:"
      ]
    },
    {
      "cell_type": "code",
      "execution_count": 57,
      "metadata": {
        "id": "1-FLCjBVEMXL"
      },
      "outputs": [],
      "source": [
        "inputs = [\n",
        "    'As baayyee qorra.', # \"It's really cold here.\"\n",
        "    'Kun jireenya kooti.', # \"This is my life.\"\n",
        "    'Kutaan isaa jeequmsa.' # \"His room is a mess\"\n",
        "]"
      ]
    },
    {
      "cell_type": "code",
      "execution_count": 58,
      "metadata": {
        "id": "sT68i4jYEQ7q",
        "colab": {
          "base_uri": "https://localhost:8080/"
        },
        "outputId": "306b1793-d48e-431e-9d37-348659d7803e"
      },
      "outputs": [
        {
          "output_type": "stream",
          "name": "stdout",
          "text": [
            "it's very cold here.\n",
            "this is my life.\n",
            "his class is a mess.\n",
            "\n",
            "CPU times: user 1.81 s, sys: 16.7 ms, total: 1.82 s\n",
            "Wall time: 1.91 s\n"
          ]
        }
      ],
      "source": [
        "%%time\n",
        "for t in inputs:\n",
        "  print(model.translate([t])[0].numpy().decode())\n",
        "\n",
        "print()"
      ]
    },
    {
      "cell_type": "code",
      "execution_count": 59,
      "metadata": {
        "id": "hd2rgyHwVVrv",
        "colab": {
          "base_uri": "https://localhost:8080/"
        },
        "outputId": "2c49b7a6-b804-46b8-85f9-0b7f615d1608"
      },
      "outputs": [
        {
          "output_type": "stream",
          "name": "stdout",
          "text": [
            "it's very cold here. \n",
            "this is my life. \n",
            "his class is a mess.\n",
            "\n",
            "CPU times: user 686 ms, sys: 7.6 ms, total: 694 ms\n",
            "Wall time: 707 ms\n"
          ]
        }
      ],
      "source": [
        "%%time\n",
        "result = model.translate(inputs)\n",
        "\n",
        "print(result[0].numpy().decode())\n",
        "print(result[1].numpy().decode())\n",
        "print(result[2].numpy().decode())\n",
        "print()"
      ]
    },
    {
      "cell_type": "markdown",
      "metadata": {
        "id": "uvhMqIw26Bwd"
      },
      "source": [
        "So overall this text generation function mostly gets the job done, but so you've only used it here in python with eager execution. Let's try to export it next:"
      ]
    },
    {
      "cell_type": "markdown",
      "metadata": {
        "id": "X4POAuUgLxLv"
      },
      "source": [
        "### Export"
      ]
    },
    {
      "cell_type": "markdown",
      "metadata": {
        "id": "S-6cFyqeUPQm"
      },
      "source": [
        "If you want to export this model you'll need to wrap the `translate` method in a `tf.function`. That implementation will get the job done:\n"
      ]
    },
    {
      "cell_type": "code",
      "execution_count": 60,
      "metadata": {
        "id": "fNhGwQaVKIAy"
      },
      "outputs": [],
      "source": [
        "class Export(tf.Module):\n",
        "  def __init__(self, model):\n",
        "    self.model = model\n",
        "\n",
        "  @tf.function(input_signature=[tf.TensorSpec(dtype=tf.string, shape=[None])])\n",
        "  def translate(self, inputs):\n",
        "    return self.model.translate(inputs)"
      ]
    },
    {
      "cell_type": "code",
      "execution_count": 61,
      "metadata": {
        "id": "5Tjqs9FzNwW5"
      },
      "outputs": [],
      "source": [
        "export = Export(model)"
      ]
    },
    {
      "cell_type": "markdown",
      "metadata": {
        "id": "fkccvHDvXCa8"
      },
      "source": [
        "Run the `tf.function` once to compile it:"
      ]
    },
    {
      "cell_type": "code",
      "execution_count": 62,
      "metadata": {
        "id": "_NzrixLvVBjQ",
        "colab": {
          "base_uri": "https://localhost:8080/"
        },
        "outputId": "2a738f3d-74bc-41d7-f69c-ccb2d3246290"
      },
      "outputs": [
        {
          "output_type": "stream",
          "name": "stdout",
          "text": [
            "CPU times: user 1min 14s, sys: 1.64 s, total: 1min 15s\n",
            "Wall time: 1min 16s\n"
          ]
        }
      ],
      "source": [
        "%%time\n",
        "_ = export.translate(tf.constant(inputs))"
      ]
    },
    {
      "cell_type": "code",
      "execution_count": 63,
      "metadata": {
        "id": "USJdu00tVFbd",
        "colab": {
          "base_uri": "https://localhost:8080/"
        },
        "outputId": "2897ccb7-bfc4-4f70-8ae5-0e681190f7dd"
      },
      "outputs": [
        {
          "output_type": "stream",
          "name": "stdout",
          "text": [
            "it's very cold here.                                            \n",
            "this is my life.                                            \n",
            "his class is a mess.                                           \n",
            "\n",
            "CPU times: user 164 ms, sys: 15 ms, total: 179 ms\n",
            "Wall time: 233 ms\n"
          ]
        }
      ],
      "source": [
        "%%time\n",
        "result = export.translate(tf.constant(inputs))\n",
        "\n",
        "print(result[0].numpy().decode())\n",
        "print(result[1].numpy().decode())\n",
        "print(result[2].numpy().decode())\n",
        "print()"
      ]
    },
    {
      "cell_type": "markdown",
      "metadata": {
        "id": "NP2dNtEXJPEL"
      },
      "source": [
        "Now that the function has been traced it can be exported using `saved_model.save`:"
      ]
    },
    {
      "cell_type": "code",
      "execution_count": 64,
      "metadata": {
        "id": "OyvxT5V0_X5B",
        "colab": {
          "base_uri": "https://localhost:8080/"
        },
        "outputId": "05664d7e-7c8f-45c4-80eb-cefbcc98d243"
      },
      "outputs": [
        {
          "output_type": "stream",
          "name": "stderr",
          "text": [
            "WARNING:absl:Found untraced functions such as embedding_3_layer_call_fn, embedding_3_layer_call_and_return_conditional_losses, embedding_4_layer_call_fn, embedding_4_layer_call_and_return_conditional_losses, cross_attention_2_layer_call_fn while saving (showing 5 of 32). These functions will not be directly callable after loading.\n"
          ]
        },
        {
          "output_type": "stream",
          "name": "stdout",
          "text": [
            "CPU times: user 1min 43s, sys: 2.78 s, total: 1min 45s\n",
            "Wall time: 1min 46s\n"
          ]
        }
      ],
      "source": [
        "%%time\n",
        "tf.saved_model.save(export, 'translator',\n",
        "                    signatures={'serving_default': export.translate})"
      ]
    },
    {
      "cell_type": "code",
      "execution_count": 7,
      "metadata": {
        "id": "-I0j3i3ekOba",
        "colab": {
          "base_uri": "https://localhost:8080/"
        },
        "outputId": "82a78248-2e71-4183-921f-c0ddb9eb3daf"
      },
      "outputs": [
        {
          "output_type": "stream",
          "name": "stdout",
          "text": [
            "CPU times: user 34.5 s, sys: 2.63 s, total: 37.1 s\n",
            "Wall time: 40.8 s\n"
          ]
        }
      ],
      "source": [
        "%%time\n",
        "reloaded = tf.saved_model.load('translator')\n",
        "#_ = reloaded.translate(tf.constant(inputs)) #warmup"
      ]
    },
    {
      "cell_type": "code",
      "source": [
        "result = reloaded.translate(tf.constant(context_raw[:20000]))"
      ],
      "metadata": {
        "id": "mQUYyqTvZmYP"
      },
      "execution_count": null,
      "outputs": []
    },
    {
      "cell_type": "code",
      "source": [
        "result = [x.numpy().decode() for x in result]"
      ],
      "metadata": {
        "id": "kFBpKUUDZssy"
      },
      "execution_count": 67,
      "outputs": []
    },
    {
      "cell_type": "code",
      "source": [
        "context_raw[1000:1010]"
      ],
      "metadata": {
        "colab": {
          "base_uri": "https://localhost:8080/"
        },
        "id": "efbnsjd1aGOP",
        "outputId": "4793f9c4-71e5-4dd9-e5f2-4a641b8b7952"
      },
      "execution_count": 68,
      "outputs": [
        {
          "output_type": "execute_result",
          "data": {
            "text/plain": [
              "array(['Mee na ilaalaa.', 'Mee nu ilaalaa.', 'Ol ilaalaa.',\n",
              "       'Achi ilaalaa.', 'Jaalalli ni tura.', \"Mama boo'e.\",\n",
              "       'Yaada hin qabu.', 'Qoosaa mitii?', 'Rakkoo hin qabu!',\n",
              "       'Rakkoo hin qabu.'], dtype='<U505')"
            ]
          },
          "metadata": {},
          "execution_count": 68
        }
      ]
    },
    {
      "cell_type": "code",
      "source": [
        "import re\n",
        "pattern = r\"(?<=[.?!])\\s+\"\n",
        "result = [re.sub(pattern, \"\", x) for x in result]"
      ],
      "metadata": {
        "id": "jpnfI3uZdetZ"
      },
      "execution_count": 69,
      "outputs": []
    },
    {
      "cell_type": "code",
      "source": [
        "from nltk.translate.bleu_score import corpus_bleu, sentence_bleu, SmoothingFunction\n",
        "\n",
        "def compute_bleu_score(references, translations, weights=(0.25, 0.25, 0.25, 0.25)):\n",
        "    \"\"\"\n",
        "    Compute the BLEU score for a set of translations and their corresponding reference translations.\n",
        "    :param references: A list of reference translations, where each translation is a list of tokens.\n",
        "    :param translations: A list of translations to evaluate, where each translation is a list of tokens.\n",
        "    :param weights: A tuple of weights to use for each n-gram score, where len(weights) = max_n in the n-gram scores.\n",
        "    :return: The BLEU score for the translations, as a float between 0 and 1.\n",
        "    \"\"\"\n",
        "    # Use smoothing to avoid division by zero\n",
        "    smoothing_function = SmoothingFunction().method1\n",
        "\n",
        "    # Compute the BLEU score for the translations and their reference translations\n",
        "    bleu_score = corpus_bleu([[ref] for ref in references], translations, weights=weights, smoothing_function=smoothing_function)\n",
        "\n",
        "    return bleu_score\n"
      ],
      "metadata": {
        "id": "DQOL2XLGZ7_T"
      },
      "execution_count": 70,
      "outputs": []
    },
    {
      "cell_type": "code",
      "source": [
        "# Compute the BLEU score for the translations and their reference translations\n",
        "bleu_score = compute_bleu_score(target_raw[10:10000], result[10:10000])\n",
        "\n",
        "print(\"BLEU score:\", bleu_score)\n"
      ],
      "metadata": {
        "colab": {
          "base_uri": "https://localhost:8080/"
        },
        "id": "kbjpMFOkdzZR",
        "outputId": "0d01c6df-a329-407a-87ff-47a03dba92c8"
      },
      "execution_count": 71,
      "outputs": [
        {
          "output_type": "stream",
          "name": "stdout",
          "text": [
            "BLEU score: 0.6978154697401021\n"
          ]
        }
      ]
    },
    {
      "cell_type": "code",
      "execution_count": 73,
      "metadata": {
        "id": "GXZF__FZXJCm",
        "colab": {
          "base_uri": "https://localhost:8080/"
        },
        "outputId": "0a6adc12-ac06-4b99-9389-9efbefc026ee"
      },
      "outputs": [
        {
          "output_type": "stream",
          "name": "stdout",
          "text": [
            "it's very cold here.                                            \n",
            "this is my life.                                            \n",
            "his class is a mess.                                           \n",
            "\n",
            "CPU times: user 189 ms, sys: 16 ms, total: 205 ms\n",
            "Wall time: 296 ms\n"
          ]
        }
      ],
      "source": [
        "%%time\n",
        "result = reloaded.translate(tf.constant(inputs))\n",
        "\n",
        "print(result[0].numpy().decode())\n",
        "print(result[1].numpy().decode())\n",
        "print(result[2].numpy().decode())\n",
        "print()"
      ]
    },
    {
      "cell_type": "code",
      "source": [
        "result = reloaded.translate([\"Jireenyi akkam?\"])\n",
        "print(result[0].numpy().decode())"
      ],
      "metadata": {
        "colab": {
          "base_uri": "https://localhost:8080/"
        },
        "id": "AeGIEWQ67ICm",
        "outputId": "0edd0871-e9b1-43cd-a3da-becb38334ff7"
      },
      "execution_count": 77,
      "outputs": [
        {
          "output_type": "stream",
          "name": "stdout",
          "text": [
            "how's life?                                              \n"
          ]
        }
      ]
    },
    {
      "cell_type": "code",
      "source": [],
      "metadata": {
        "id": "bTGmR2mp7QW0"
      },
      "execution_count": 74,
      "outputs": []
    }
  ],
  "metadata": {
    "accelerator": "GPU",
    "colab": {
      "provenance": [],
      "include_colab_link": true
    },
    "kernelspec": {
      "display_name": "Python 3",
      "name": "python3"
    },
    "gpuClass": "standard"
  },
  "nbformat": 4,
  "nbformat_minor": 0
}